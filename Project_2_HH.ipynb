{
 "cells": [
  {
   "cell_type": "markdown",
   "id": "42289889-bd57-434e-9637-d3e354756316",
   "metadata": {
    "id": "42289889-bd57-434e-9637-d3e354756316"
   },
   "source": [
    "<center> <img src = https://raw.githubusercontent.com/AndreyRysistov/DatasetsForPandas/main/hh%20label.jpg alt=\"drawing\" style=\"width:400px;\">"
   ]
  },
  {
   "cell_type": "markdown",
   "id": "829cb75b-f14e-4ba8-9195-7ba929a7d656",
   "metadata": {
    "id": "829cb75b-f14e-4ba8-9195-7ba929a7d656",
    "tags": []
   },
   "source": [
    "# <center> Проект: Анализ вакансий из HeadHunter\n",
    "   "
   ]
  },
  {
   "cell_type": "code",
   "execution_count": 1,
   "id": "dccfde33-2452-43fb-a8a5-5c6ebc02a71d",
   "metadata": {
    "id": "dccfde33-2452-43fb-a8a5-5c6ebc02a71d"
   },
   "outputs": [],
   "source": [
    "# Импортируем необходимые библиотеки\n",
    "import pandas as pd\n",
    "import psycopg2"
   ]
  },
  {
   "cell_type": "code",
   "execution_count": 2,
   "id": "oVKH4ehvf8Ay",
   "metadata": {
    "id": "oVKH4ehvf8Ay"
   },
   "outputs": [],
   "source": [
    "# Задаем параметры соединения \n",
    "DBNAME = 'project_sql'\n",
    "USER = 'skillfactory'\n",
    "PASSWORD = 'cCkxxLVrDE8EbvjueeMedPKt'\n",
    "HOST = '84.201.134.129'\n",
    "PORT = 5432"
   ]
  },
  {
   "cell_type": "code",
   "execution_count": 3,
   "id": "G4X_q8KBf7SF",
   "metadata": {
    "id": "G4X_q8KBf7SF"
   },
   "outputs": [],
   "source": [
    "# Создаём соединение с заданными параметрами\n",
    "connection = psycopg2.connect(\n",
    "    dbname=DBNAME,\n",
    "    user=USER,\n",
    "    host=HOST,\n",
    "    password=PASSWORD,\n",
    "    port=PORT\n",
    ")"
   ]
  },
  {
   "cell_type": "markdown",
   "id": "0dc6476b-7a00-44f1-ac93-6e3baed33a29",
   "metadata": {
    "id": "0dc6476b-7a00-44f1-ac93-6e3baed33a29"
   },
   "source": [
    "# Юнит 3. Предварительный анализ данных"
   ]
  },
  {
   "cell_type": "markdown",
   "id": "889782b6-8d1c-410e-8920-e57f27917c64",
   "metadata": {
    "id": "889782b6-8d1c-410e-8920-e57f27917c64"
   },
   "source": [
    "1. Напишите запрос, который посчитает количество вакансий в нашей базе (вакансии находятся в таблице vacancies). "
   ]
  },
  {
   "cell_type": "code",
   "execution_count": 4,
   "id": "fd8acaf3",
   "metadata": {},
   "outputs": [
    {
     "name": "stderr",
     "output_type": "stream",
     "text": [
      "C:\\Users\\afina\\AppData\\Local\\Temp\\ipykernel_19248\\2258313404.py:5: UserWarning: pandas only supports SQLAlchemy connectable (engine/connection) or database string URI or sqlite3 DBAPI2 connection. Other DBAPI2 objects are not tested. Please consider using SQLAlchemy.\n",
      "  df_vac = pd.read_sql_query(query_vac, connection)\n"
     ]
    },
    {
     "data": {
      "text/html": [
       "<div>\n",
       "<style scoped>\n",
       "    .dataframe tbody tr th:only-of-type {\n",
       "        vertical-align: middle;\n",
       "    }\n",
       "\n",
       "    .dataframe tbody tr th {\n",
       "        vertical-align: top;\n",
       "    }\n",
       "\n",
       "    .dataframe thead th {\n",
       "        text-align: right;\n",
       "    }\n",
       "</style>\n",
       "<table border=\"1\" class=\"dataframe\">\n",
       "  <thead>\n",
       "    <tr style=\"text-align: right;\">\n",
       "      <th></th>\n",
       "      <th>id</th>\n",
       "      <th>name</th>\n",
       "      <th>key_skills</th>\n",
       "      <th>schedule</th>\n",
       "      <th>experience</th>\n",
       "      <th>employment</th>\n",
       "      <th>salary_from</th>\n",
       "      <th>salary_to</th>\n",
       "      <th>area_id</th>\n",
       "      <th>employer_id</th>\n",
       "    </tr>\n",
       "  </thead>\n",
       "  <tbody>\n",
       "    <tr>\n",
       "      <th>0</th>\n",
       "      <td>55312386</td>\n",
       "      <td>Компьютерный Мастер</td>\n",
       "      <td>Пользователь ПК\\tРабота в команде\\tРемонт ноут...</td>\n",
       "      <td>Полный день</td>\n",
       "      <td>Нет опыта</td>\n",
       "      <td>Полная занятость</td>\n",
       "      <td>64000.0</td>\n",
       "      <td>NaN</td>\n",
       "      <td>1516</td>\n",
       "      <td>5724811</td>\n",
       "    </tr>\n",
       "    <tr>\n",
       "      <th>1</th>\n",
       "      <td>55843014</td>\n",
       "      <td>Системный администратор</td>\n",
       "      <td>Средства криптографической защиты информации\\t...</td>\n",
       "      <td>Полный день</td>\n",
       "      <td>От 3 до 6 лет</td>\n",
       "      <td>Полная занятость</td>\n",
       "      <td>NaN</td>\n",
       "      <td>NaN</td>\n",
       "      <td>130</td>\n",
       "      <td>4903713</td>\n",
       "    </tr>\n",
       "    <tr>\n",
       "      <th>2</th>\n",
       "      <td>54525964</td>\n",
       "      <td>Lead Java Developer to Poland</td>\n",
       "      <td>Spring Framework\\tSQL\\tHibernate ORM\\tJava\\tGit</td>\n",
       "      <td>Удаленная работа</td>\n",
       "      <td>От 3 до 6 лет</td>\n",
       "      <td>Полная занятость</td>\n",
       "      <td>NaN</td>\n",
       "      <td>NaN</td>\n",
       "      <td>160</td>\n",
       "      <td>69961</td>\n",
       "    </tr>\n",
       "    <tr>\n",
       "      <th>3</th>\n",
       "      <td>54525965</td>\n",
       "      <td>Lead Java Developer to Poland</td>\n",
       "      <td>Spring Framework\\tSQL\\tHibernate ORM\\tJava\\tGit</td>\n",
       "      <td>Удаленная работа</td>\n",
       "      <td>От 3 до 6 лет</td>\n",
       "      <td>Полная занятость</td>\n",
       "      <td>NaN</td>\n",
       "      <td>NaN</td>\n",
       "      <td>159</td>\n",
       "      <td>69961</td>\n",
       "    </tr>\n",
       "    <tr>\n",
       "      <th>4</th>\n",
       "      <td>55354053</td>\n",
       "      <td>Специалист службы поддержки с техническими зна...</td>\n",
       "      <td>None</td>\n",
       "      <td>Удаленная работа</td>\n",
       "      <td>Нет опыта</td>\n",
       "      <td>Частичная занятость</td>\n",
       "      <td>15000.0</td>\n",
       "      <td>NaN</td>\n",
       "      <td>1955</td>\n",
       "      <td>1740</td>\n",
       "    </tr>\n",
       "    <tr>\n",
       "      <th>...</th>\n",
       "      <td>...</td>\n",
       "      <td>...</td>\n",
       "      <td>...</td>\n",
       "      <td>...</td>\n",
       "      <td>...</td>\n",
       "      <td>...</td>\n",
       "      <td>...</td>\n",
       "      <td>...</td>\n",
       "      <td>...</td>\n",
       "      <td>...</td>\n",
       "    </tr>\n",
       "    <tr>\n",
       "      <th>49192</th>\n",
       "      <td>55589514</td>\n",
       "      <td>Специалист по информационным технологиям</td>\n",
       "      <td>Электронный документооборот\\t1С: Предприятие 8...</td>\n",
       "      <td>Полный день</td>\n",
       "      <td>От 3 до 6 лет</td>\n",
       "      <td>Полная занятость</td>\n",
       "      <td>NaN</td>\n",
       "      <td>NaN</td>\n",
       "      <td>66</td>\n",
       "      <td>5109332</td>\n",
       "    </tr>\n",
       "    <tr>\n",
       "      <th>49193</th>\n",
       "      <td>55029668</td>\n",
       "      <td>Руководитель процессного офиса</td>\n",
       "      <td>Оптимизация бизнес-процессов\\tСтратегическое м...</td>\n",
       "      <td>Полный день</td>\n",
       "      <td>От 3 до 6 лет</td>\n",
       "      <td>Полная занятость</td>\n",
       "      <td>NaN</td>\n",
       "      <td>NaN</td>\n",
       "      <td>26</td>\n",
       "      <td>51333</td>\n",
       "    </tr>\n",
       "    <tr>\n",
       "      <th>49194</th>\n",
       "      <td>66172263</td>\n",
       "      <td>Начальник сервисной службы</td>\n",
       "      <td>Организаторские навыки\\tУправление персоналом\\...</td>\n",
       "      <td>Полный день</td>\n",
       "      <td>От 1 года до 3 лет</td>\n",
       "      <td>Полная занятость</td>\n",
       "      <td>60000.0</td>\n",
       "      <td>NaN</td>\n",
       "      <td>1930</td>\n",
       "      <td>4094700</td>\n",
       "    </tr>\n",
       "    <tr>\n",
       "      <th>49195</th>\n",
       "      <td>66180086</td>\n",
       "      <td>Senior IOS разработчик</td>\n",
       "      <td>Swift\\tRealm\\tiOS\\tАнглийский язык\\tMVP\\tMVVM\\...</td>\n",
       "      <td>Полный день</td>\n",
       "      <td>От 1 года до 3 лет</td>\n",
       "      <td>Полная занятость</td>\n",
       "      <td>146456.0</td>\n",
       "      <td>244094.0</td>\n",
       "      <td>160</td>\n",
       "      <td>4469939</td>\n",
       "    </tr>\n",
       "    <tr>\n",
       "      <th>49196</th>\n",
       "      <td>55547842</td>\n",
       "      <td>DataOps Engineer</td>\n",
       "      <td>None</td>\n",
       "      <td>Удаленная работа</td>\n",
       "      <td>От 3 до 6 лет</td>\n",
       "      <td>Полная занятость</td>\n",
       "      <td>NaN</td>\n",
       "      <td>NaN</td>\n",
       "      <td>160</td>\n",
       "      <td>4978627</td>\n",
       "    </tr>\n",
       "  </tbody>\n",
       "</table>\n",
       "<p>49197 rows × 10 columns</p>\n",
       "</div>"
      ],
      "text/plain": [
       "             id                                               name  \\\n",
       "0      55312386                                Компьютерный Мастер   \n",
       "1      55843014                            Системный администратор   \n",
       "2      54525964                      Lead Java Developer to Poland   \n",
       "3      54525965                      Lead Java Developer to Poland   \n",
       "4      55354053  Специалист службы поддержки с техническими зна...   \n",
       "...         ...                                                ...   \n",
       "49192  55589514           Специалист по информационным технологиям   \n",
       "49193  55029668                     Руководитель процессного офиса   \n",
       "49194  66172263                         Начальник сервисной службы   \n",
       "49195  66180086                             Senior IOS разработчик   \n",
       "49196  55547842                                   DataOps Engineer   \n",
       "\n",
       "                                              key_skills          schedule  \\\n",
       "0      Пользователь ПК\\tРабота в команде\\tРемонт ноут...       Полный день   \n",
       "1      Средства криптографической защиты информации\\t...       Полный день   \n",
       "2        Spring Framework\\tSQL\\tHibernate ORM\\tJava\\tGit  Удаленная работа   \n",
       "3        Spring Framework\\tSQL\\tHibernate ORM\\tJava\\tGit  Удаленная работа   \n",
       "4                                                   None  Удаленная работа   \n",
       "...                                                  ...               ...   \n",
       "49192  Электронный документооборот\\t1С: Предприятие 8...       Полный день   \n",
       "49193  Оптимизация бизнес-процессов\\tСтратегическое м...       Полный день   \n",
       "49194  Организаторские навыки\\tУправление персоналом\\...       Полный день   \n",
       "49195  Swift\\tRealm\\tiOS\\tАнглийский язык\\tMVP\\tMVVM\\...       Полный день   \n",
       "49196                                               None  Удаленная работа   \n",
       "\n",
       "               experience           employment  salary_from  salary_to  \\\n",
       "0               Нет опыта     Полная занятость      64000.0        NaN   \n",
       "1           От 3 до 6 лет     Полная занятость          NaN        NaN   \n",
       "2           От 3 до 6 лет     Полная занятость          NaN        NaN   \n",
       "3           От 3 до 6 лет     Полная занятость          NaN        NaN   \n",
       "4               Нет опыта  Частичная занятость      15000.0        NaN   \n",
       "...                   ...                  ...          ...        ...   \n",
       "49192       От 3 до 6 лет     Полная занятость          NaN        NaN   \n",
       "49193       От 3 до 6 лет     Полная занятость          NaN        NaN   \n",
       "49194  От 1 года до 3 лет     Полная занятость      60000.0        NaN   \n",
       "49195  От 1 года до 3 лет     Полная занятость     146456.0   244094.0   \n",
       "49196       От 3 до 6 лет     Полная занятость          NaN        NaN   \n",
       "\n",
       "       area_id  employer_id  \n",
       "0         1516      5724811  \n",
       "1          130      4903713  \n",
       "2          160        69961  \n",
       "3          159        69961  \n",
       "4         1955         1740  \n",
       "...        ...          ...  \n",
       "49192       66      5109332  \n",
       "49193       26        51333  \n",
       "49194     1930      4094700  \n",
       "49195      160      4469939  \n",
       "49196      160      4978627  \n",
       "\n",
       "[49197 rows x 10 columns]"
      ]
     },
     "metadata": {},
     "output_type": "display_data"
    }
   ],
   "source": [
    "# Создаем f-строку query_vac для запроса sql-таблице vacancies с вакансиями\n",
    "query_vac = f'''select *\n",
    "            from vacancies\n",
    "         '''\n",
    "\n",
    "df_vac = pd.read_sql_query(query_vac, connection) # Передаем результаты запроса в дата-фрейм df_vac\n",
    "display(df_vac) # Распечатываем дата-фрейм df_vac для предварительного анализа"
   ]
  },
  {
   "cell_type": "markdown",
   "id": "3e154a7c",
   "metadata": {},
   "source": [
    "В базе данных vacancies - 49 197 записей (предложение вакансий от работодателей) и каждая запись состоит из 10 столбцов (каждое предложение по вакансии описывается 10 параметрами: идентификатор, название, описание навыков, описание графика работы(полный день или удаленная работа), опыт работы (нет опыта - ? лет), желаемый тип занятости(полная или частичная), нижняя вилка з/п(не у всех задана), верхняя вилка з/п(не у всех задана), идентификатор региона, идентификатор работодателя). "
   ]
  },
  {
   "cell_type": "markdown",
   "id": "b583485d-1f9e-494e-ada4-80ffff7c53d6",
   "metadata": {
    "id": "b583485d-1f9e-494e-ada4-80ffff7c53d6"
   },
   "source": [
    "2. Напишите запрос, который посчитает количество работодателей (таблица employers). "
   ]
  },
  {
   "cell_type": "code",
   "execution_count": 5,
   "id": "5408c52c-3407-4a63-b25b-1aafa2322d28",
   "metadata": {
    "id": "5408c52c-3407-4a63-b25b-1aafa2322d28"
   },
   "outputs": [
    {
     "name": "stderr",
     "output_type": "stream",
     "text": [
      "C:\\Users\\afina\\AppData\\Local\\Temp\\ipykernel_19248\\4285040227.py:5: UserWarning: pandas only supports SQLAlchemy connectable (engine/connection) or database string URI or sqlite3 DBAPI2 connection. Other DBAPI2 objects are not tested. Please consider using SQLAlchemy.\n",
      "  df_employ = pd.read_sql_query(query_employ, connection)\n"
     ]
    },
    {
     "data": {
      "text/html": [
       "<div>\n",
       "<style scoped>\n",
       "    .dataframe tbody tr th:only-of-type {\n",
       "        vertical-align: middle;\n",
       "    }\n",
       "\n",
       "    .dataframe tbody tr th {\n",
       "        vertical-align: top;\n",
       "    }\n",
       "\n",
       "    .dataframe thead th {\n",
       "        text-align: right;\n",
       "    }\n",
       "</style>\n",
       "<table border=\"1\" class=\"dataframe\">\n",
       "  <thead>\n",
       "    <tr style=\"text-align: right;\">\n",
       "      <th></th>\n",
       "      <th>id</th>\n",
       "      <th>name</th>\n",
       "      <th>area</th>\n",
       "    </tr>\n",
       "  </thead>\n",
       "  <tbody>\n",
       "    <tr>\n",
       "      <th>0</th>\n",
       "      <td>2393</td>\n",
       "      <td>Программный Продукт, ИТ-компания</td>\n",
       "      <td>1</td>\n",
       "    </tr>\n",
       "    <tr>\n",
       "      <th>1</th>\n",
       "      <td>72977</td>\n",
       "      <td>БАРС Груп</td>\n",
       "      <td>88</td>\n",
       "    </tr>\n",
       "    <tr>\n",
       "      <th>2</th>\n",
       "      <td>3155</td>\n",
       "      <td>Бест, Торгово-производственная компания, Екате...</td>\n",
       "      <td>3</td>\n",
       "    </tr>\n",
       "    <tr>\n",
       "      <th>3</th>\n",
       "      <td>675</td>\n",
       "      <td>КОРУС Консалтинг</td>\n",
       "      <td>2</td>\n",
       "    </tr>\n",
       "    <tr>\n",
       "      <th>4</th>\n",
       "      <td>1840010</td>\n",
       "      <td>филиал ФКУ Налог-Сервис ФНС России в Республик...</td>\n",
       "      <td>88</td>\n",
       "    </tr>\n",
       "    <tr>\n",
       "      <th>...</th>\n",
       "      <td>...</td>\n",
       "      <td>...</td>\n",
       "      <td>...</td>\n",
       "    </tr>\n",
       "    <tr>\n",
       "      <th>23496</th>\n",
       "      <td>1441774</td>\n",
       "      <td>МарКо</td>\n",
       "      <td>88</td>\n",
       "    </tr>\n",
       "    <tr>\n",
       "      <th>23497</th>\n",
       "      <td>4718575</td>\n",
       "      <td>MKomov Studio</td>\n",
       "      <td>73</td>\n",
       "    </tr>\n",
       "    <tr>\n",
       "      <th>23498</th>\n",
       "      <td>3702770</td>\n",
       "      <td>АКИБ Ипотека-банк</td>\n",
       "      <td>2759</td>\n",
       "    </tr>\n",
       "    <tr>\n",
       "      <th>23499</th>\n",
       "      <td>5636092</td>\n",
       "      <td>ГИМ-КЛИНИКА</td>\n",
       "      <td>99</td>\n",
       "    </tr>\n",
       "    <tr>\n",
       "      <th>23500</th>\n",
       "      <td>2064382</td>\n",
       "      <td>Рыббла</td>\n",
       "      <td>104</td>\n",
       "    </tr>\n",
       "  </tbody>\n",
       "</table>\n",
       "<p>23501 rows × 3 columns</p>\n",
       "</div>"
      ],
      "text/plain": [
       "            id                                               name  area\n",
       "0         2393                   Программный Продукт, ИТ-компания     1\n",
       "1        72977                                          БАРС Груп    88\n",
       "2         3155  Бест, Торгово-производственная компания, Екате...     3\n",
       "3          675                                   КОРУС Консалтинг     2\n",
       "4      1840010  филиал ФКУ Налог-Сервис ФНС России в Республик...    88\n",
       "...        ...                                                ...   ...\n",
       "23496  1441774                                              МарКо    88\n",
       "23497  4718575                                      MKomov Studio    73\n",
       "23498  3702770                                  АКИБ Ипотека-банк  2759\n",
       "23499  5636092                                        ГИМ-КЛИНИКА    99\n",
       "23500  2064382                                             Рыббла   104\n",
       "\n",
       "[23501 rows x 3 columns]"
      ]
     },
     "metadata": {},
     "output_type": "display_data"
    }
   ],
   "source": [
    "# Создаем f-строку query_employ для запроса sql-таблице employers с работодателями\n",
    "query_employ = f'''select *\n",
    "            from employers\n",
    "         '''\n",
    "\n",
    "df_employ = pd.read_sql_query(query_employ, connection) # Передаем результаты запроса в дата-фрейм\n",
    "                                                        # df_employ\n",
    "display(df_employ) # Распечатываем дата-фрейм df_employ для предварительного анализа"
   ]
  },
  {
   "cell_type": "markdown",
   "id": "915b323b",
   "metadata": {},
   "source": [
    "В базе данных employers - 23 501 записей (работодателей) и каждая запись состоит из 3 столбцов (каждый работодатель описывается 3 параметрами: идентификатор, название и идентификатор региона в котором находится работодатель)."
   ]
  },
  {
   "cell_type": "markdown",
   "id": "a2bfff1f-c975-4bf6-84be-2185d79dcb76",
   "metadata": {
    "id": "a2bfff1f-c975-4bf6-84be-2185d79dcb76"
   },
   "source": [
    "3. Посчитате с помощью запроса количество регионов (таблица areas)."
   ]
  },
  {
   "cell_type": "code",
   "execution_count": 6,
   "id": "1m8QJwBYhey6",
   "metadata": {
    "id": "1m8QJwBYhey6"
   },
   "outputs": [
    {
     "name": "stderr",
     "output_type": "stream",
     "text": [
      "C:\\Users\\afina\\AppData\\Local\\Temp\\ipykernel_19248\\1628710500.py:5: UserWarning: pandas only supports SQLAlchemy connectable (engine/connection) or database string URI or sqlite3 DBAPI2 connection. Other DBAPI2 objects are not tested. Please consider using SQLAlchemy.\n",
      "  df_areas = pd.read_sql_query(query_areas, connection)\n"
     ]
    },
    {
     "data": {
      "text/html": [
       "<div>\n",
       "<style scoped>\n",
       "    .dataframe tbody tr th:only-of-type {\n",
       "        vertical-align: middle;\n",
       "    }\n",
       "\n",
       "    .dataframe tbody tr th {\n",
       "        vertical-align: top;\n",
       "    }\n",
       "\n",
       "    .dataframe thead th {\n",
       "        text-align: right;\n",
       "    }\n",
       "</style>\n",
       "<table border=\"1\" class=\"dataframe\">\n",
       "  <thead>\n",
       "    <tr style=\"text-align: right;\">\n",
       "      <th></th>\n",
       "      <th>id</th>\n",
       "      <th>name</th>\n",
       "    </tr>\n",
       "  </thead>\n",
       "  <tbody>\n",
       "    <tr>\n",
       "      <th>0</th>\n",
       "      <td>2758</td>\n",
       "      <td>Тбилиси</td>\n",
       "    </tr>\n",
       "    <tr>\n",
       "      <th>1</th>\n",
       "      <td>8</td>\n",
       "      <td>Майкоп</td>\n",
       "    </tr>\n",
       "    <tr>\n",
       "      <th>2</th>\n",
       "      <td>1180</td>\n",
       "      <td>Нерюнгри</td>\n",
       "    </tr>\n",
       "    <tr>\n",
       "      <th>3</th>\n",
       "      <td>1240</td>\n",
       "      <td>Новокузнецк</td>\n",
       "    </tr>\n",
       "    <tr>\n",
       "      <th>4</th>\n",
       "      <td>2</td>\n",
       "      <td>Санкт-Петербург</td>\n",
       "    </tr>\n",
       "    <tr>\n",
       "      <th>...</th>\n",
       "      <td>...</td>\n",
       "      <td>...</td>\n",
       "    </tr>\n",
       "    <tr>\n",
       "      <th>1357</th>\n",
       "      <td>5043</td>\n",
       "      <td>Звёздный Городок</td>\n",
       "    </tr>\n",
       "    <tr>\n",
       "      <th>1358</th>\n",
       "      <td>3934</td>\n",
       "      <td>Воротынск\\n</td>\n",
       "    </tr>\n",
       "    <tr>\n",
       "      <th>1359</th>\n",
       "      <td>4825</td>\n",
       "      <td>Чемал</td>\n",
       "    </tr>\n",
       "    <tr>\n",
       "      <th>1360</th>\n",
       "      <td>3708</td>\n",
       "      <td>Усть-Нера</td>\n",
       "    </tr>\n",
       "    <tr>\n",
       "      <th>1361</th>\n",
       "      <td>2432</td>\n",
       "      <td>Каневская</td>\n",
       "    </tr>\n",
       "  </tbody>\n",
       "</table>\n",
       "<p>1362 rows × 2 columns</p>\n",
       "</div>"
      ],
      "text/plain": [
       "        id              name\n",
       "0     2758           Тбилиси\n",
       "1        8            Майкоп\n",
       "2     1180          Нерюнгри\n",
       "3     1240       Новокузнецк\n",
       "4        2   Санкт-Петербург\n",
       "...    ...               ...\n",
       "1357  5043  Звёздный Городок\n",
       "1358  3934       Воротынск\\n\n",
       "1359  4825             Чемал\n",
       "1360  3708         Усть-Нера\n",
       "1361  2432         Каневская\n",
       "\n",
       "[1362 rows x 2 columns]"
      ]
     },
     "metadata": {},
     "output_type": "display_data"
    }
   ],
   "source": [
    "# Создаем f-строку query_areas для запроса sql-таблице areas с регионами\n",
    "query_areas = f'''select *\n",
    "            from areas\n",
    "         '''\n",
    "\n",
    "df_areas = pd.read_sql_query(query_areas, connection) # Передаем результаты запроса в дата-фрейм\n",
    "                                                      # df_areas\n",
    "display(df_areas) # Распечатываем дата-фрейм df_areas для предварительного анализа"
   ]
  },
  {
   "cell_type": "markdown",
   "id": "ac991a40",
   "metadata": {},
   "source": [
    "В базе данных areas - 1 362 записи (региона) и каждая запись состоит из 2 столбцов (каждый регион описывается 2 параметрами: идентификатор и название)."
   ]
  },
  {
   "cell_type": "markdown",
   "id": "41bb59f3-53cc-4a67-a5bc-bedf573955e4",
   "metadata": {
    "id": "41bb59f3-53cc-4a67-a5bc-bedf573955e4"
   },
   "source": [
    "4. Посчитате с помощью запроса количество сфер деятельности в базе (таблица industries)."
   ]
  },
  {
   "cell_type": "code",
   "execution_count": 7,
   "id": "d286cf4c-707b-4cd2-9190-7ab3587d04a1",
   "metadata": {
    "id": "d286cf4c-707b-4cd2-9190-7ab3587d04a1"
   },
   "outputs": [
    {
     "name": "stderr",
     "output_type": "stream",
     "text": [
      "C:\\Users\\afina\\AppData\\Local\\Temp\\ipykernel_19248\\3227769035.py:5: UserWarning: pandas only supports SQLAlchemy connectable (engine/connection) or database string URI or sqlite3 DBAPI2 connection. Other DBAPI2 objects are not tested. Please consider using SQLAlchemy.\n",
      "  df_industr = pd.read_sql_query(query_industr, connection)\n"
     ]
    },
    {
     "data": {
      "text/html": [
       "<div>\n",
       "<style scoped>\n",
       "    .dataframe tbody tr th:only-of-type {\n",
       "        vertical-align: middle;\n",
       "    }\n",
       "\n",
       "    .dataframe tbody tr th {\n",
       "        vertical-align: top;\n",
       "    }\n",
       "\n",
       "    .dataframe thead th {\n",
       "        text-align: right;\n",
       "    }\n",
       "</style>\n",
       "<table border=\"1\" class=\"dataframe\">\n",
       "  <thead>\n",
       "    <tr style=\"text-align: right;\">\n",
       "      <th></th>\n",
       "      <th>id</th>\n",
       "      <th>name</th>\n",
       "    </tr>\n",
       "  </thead>\n",
       "  <tbody>\n",
       "    <tr>\n",
       "      <th>0</th>\n",
       "      <td>7.540</td>\n",
       "      <td>Разработка программного обеспечения</td>\n",
       "    </tr>\n",
       "    <tr>\n",
       "      <th>1</th>\n",
       "      <td>7.539</td>\n",
       "      <td>Системная интеграция,  автоматизации технологи...</td>\n",
       "    </tr>\n",
       "    <tr>\n",
       "      <th>2</th>\n",
       "      <td>27.550</td>\n",
       "      <td>Безалкогольные напитки (производство)</td>\n",
       "    </tr>\n",
       "    <tr>\n",
       "      <th>3</th>\n",
       "      <td>27.551</td>\n",
       "      <td>Безалкогольные напитки (продвижение, оптовая т...</td>\n",
       "    </tr>\n",
       "    <tr>\n",
       "      <th>4</th>\n",
       "      <td>13.664</td>\n",
       "      <td>Управление и эксплуатация недвижимости</td>\n",
       "    </tr>\n",
       "    <tr>\n",
       "      <th>...</th>\n",
       "      <td>...</td>\n",
       "      <td>...</td>\n",
       "    </tr>\n",
       "    <tr>\n",
       "      <th>289</th>\n",
       "      <td>37.626</td>\n",
       "      <td>Ассоциация в сфере культуры, искусства</td>\n",
       "    </tr>\n",
       "    <tr>\n",
       "      <th>290</th>\n",
       "      <td>42.603</td>\n",
       "      <td>Табак  (производство)</td>\n",
       "    </tr>\n",
       "    <tr>\n",
       "      <th>291</th>\n",
       "      <td>29.532</td>\n",
       "      <td>Рыболовство, рыбоводство</td>\n",
       "    </tr>\n",
       "    <tr>\n",
       "      <th>292</th>\n",
       "      <td>37.627</td>\n",
       "      <td>Благотворительная организация</td>\n",
       "    </tr>\n",
       "    <tr>\n",
       "      <th>293</th>\n",
       "      <td>388.505</td>\n",
       "      <td>Оборудование для деревообработки, заготовки ле...</td>\n",
       "    </tr>\n",
       "  </tbody>\n",
       "</table>\n",
       "<p>294 rows × 2 columns</p>\n",
       "</div>"
      ],
      "text/plain": [
       "          id                                               name\n",
       "0      7.540                Разработка программного обеспечения\n",
       "1      7.539  Системная интеграция,  автоматизации технологи...\n",
       "2     27.550              Безалкогольные напитки (производство)\n",
       "3     27.551  Безалкогольные напитки (продвижение, оптовая т...\n",
       "4     13.664             Управление и эксплуатация недвижимости\n",
       "..       ...                                                ...\n",
       "289   37.626             Ассоциация в сфере культуры, искусства\n",
       "290   42.603                              Табак  (производство)\n",
       "291   29.532                           Рыболовство, рыбоводство\n",
       "292   37.627                      Благотворительная организация\n",
       "293  388.505  Оборудование для деревообработки, заготовки ле...\n",
       "\n",
       "[294 rows x 2 columns]"
      ]
     },
     "metadata": {},
     "output_type": "display_data"
    }
   ],
   "source": [
    "# Создаем f-строку query_industr для запроса sql-таблице industries с сферами деятельности работадателей\n",
    "query_industr = f'''select *\n",
    "            from industries\n",
    "         '''\n",
    "\n",
    "df_industr = pd.read_sql_query(query_industr, connection) # Передаем результаты запроса в дата-фрейм\n",
    "                                                          # df_industr\n",
    "display(df_industr) # Распечатываем дата-фрейм df_industr для предварительного анализа"
   ]
  },
  {
   "cell_type": "markdown",
   "id": "8f2cfb1b",
   "metadata": {},
   "source": [
    "В базе данных industries - 294 записи (сферы деятельности) и каждая запись состоит из 2 столбцов (каждая сфера деятельности описывается 2 параметрами: идентификатор и название)."
   ]
  },
  {
   "cell_type": "code",
   "execution_count": 6,
   "id": "2e052e54",
   "metadata": {},
   "outputs": [
    {
     "name": "stderr",
     "output_type": "stream",
     "text": [
      "C:\\Users\\afina\\AppData\\Local\\Temp\\ipykernel_14488\\1396660919.py:6: UserWarning: pandas only supports SQLAlchemy connectable (engine/connection) or database string URI or sqlite3 DBAPI2 connection. Other DBAPI2 objects are not tested. Please consider using SQLAlchemy.\n",
      "  df_employers_industr = pd.read_sql_query(employers_industr, connection) # Передаем результаты запроса в дата-фрейм\n"
     ]
    },
    {
     "data": {
      "text/html": [
       "<div>\n",
       "<style scoped>\n",
       "    .dataframe tbody tr th:only-of-type {\n",
       "        vertical-align: middle;\n",
       "    }\n",
       "\n",
       "    .dataframe tbody tr th {\n",
       "        vertical-align: top;\n",
       "    }\n",
       "\n",
       "    .dataframe thead th {\n",
       "        text-align: right;\n",
       "    }\n",
       "</style>\n",
       "<table border=\"1\" class=\"dataframe\">\n",
       "  <thead>\n",
       "    <tr style=\"text-align: right;\">\n",
       "      <th></th>\n",
       "      <th>employer_id</th>\n",
       "      <th>industry_id</th>\n",
       "    </tr>\n",
       "  </thead>\n",
       "  <tbody>\n",
       "    <tr>\n",
       "      <th>0</th>\n",
       "      <td>2393</td>\n",
       "      <td>7.540</td>\n",
       "    </tr>\n",
       "    <tr>\n",
       "      <th>1</th>\n",
       "      <td>2393</td>\n",
       "      <td>7.539</td>\n",
       "    </tr>\n",
       "    <tr>\n",
       "      <th>2</th>\n",
       "      <td>72977</td>\n",
       "      <td>7.540</td>\n",
       "    </tr>\n",
       "    <tr>\n",
       "      <th>3</th>\n",
       "      <td>72977</td>\n",
       "      <td>7.539</td>\n",
       "    </tr>\n",
       "    <tr>\n",
       "      <th>4</th>\n",
       "      <td>3155</td>\n",
       "      <td>27.550</td>\n",
       "    </tr>\n",
       "    <tr>\n",
       "      <th>...</th>\n",
       "      <td>...</td>\n",
       "      <td>...</td>\n",
       "    </tr>\n",
       "    <tr>\n",
       "      <th>32328</th>\n",
       "      <td>4718575</td>\n",
       "      <td>7.539</td>\n",
       "    </tr>\n",
       "    <tr>\n",
       "      <th>32329</th>\n",
       "      <td>3702770</td>\n",
       "      <td>43.647</td>\n",
       "    </tr>\n",
       "    <tr>\n",
       "      <th>32330</th>\n",
       "      <td>2064382</td>\n",
       "      <td>7.541</td>\n",
       "    </tr>\n",
       "    <tr>\n",
       "      <th>32331</th>\n",
       "      <td>2064382</td>\n",
       "      <td>7.540</td>\n",
       "    </tr>\n",
       "    <tr>\n",
       "      <th>32332</th>\n",
       "      <td>2064382</td>\n",
       "      <td>7.539</td>\n",
       "    </tr>\n",
       "  </tbody>\n",
       "</table>\n",
       "<p>32333 rows × 2 columns</p>\n",
       "</div>"
      ],
      "text/plain": [
       "       employer_id industry_id\n",
       "0             2393       7.540\n",
       "1             2393       7.539\n",
       "2            72977       7.540\n",
       "3            72977       7.539\n",
       "4             3155      27.550\n",
       "...            ...         ...\n",
       "32328      4718575       7.539\n",
       "32329      3702770      43.647\n",
       "32330      2064382       7.541\n",
       "32331      2064382       7.540\n",
       "32332      2064382       7.539\n",
       "\n",
       "[32333 rows x 2 columns]"
      ]
     },
     "execution_count": 6,
     "metadata": {},
     "output_type": "execute_result"
    }
   ],
   "source": [
    "# Создаем f-строку employers_industr для запроса sql-таблице employers_industries\n",
    "employers_industr = f'''select *\n",
    "            from employers_industries\n",
    "         '''\n",
    "\n",
    "df_employers_industr = pd.read_sql_query(employers_industr, connection) # Передаем результаты запроса в дата-фрейм\n",
    "                                                          # df_employers_industr\n",
    "df_employers_industr # Распечатываем дата-фрейм df_employers_industr для предварительного анализа"
   ]
  },
  {
   "cell_type": "markdown",
   "id": "935f0cf4",
   "metadata": {},
   "source": [
    "В базе данных employers_industr - 32 333 записи каждая запись состоит из 2 столбцов (идентификатор работодателя и идентификатор сферы деятельности). Дополнительная таблица, которая существует для организации связи между работодателями и сферами их деятельности. Эта таблица нужна нам, поскольку у одного работодателя может быть несколько сфер деятельности (или работодатели могут вовсе не указать их). Для удобства анализа необходимо хранить запись по каждой сфере каждого работодателя в отдельной строке таблицы."
   ]
  },
  {
   "cell_type": "markdown",
   "id": "9a8a2181-6914-448b-85f1-38f5f18b8a93",
   "metadata": {
    "id": "9a8a2181-6914-448b-85f1-38f5f18b8a93"
   },
   "source": [
    "***"
   ]
  },
  {
   "cell_type": "markdown",
   "id": "f6cb73f3",
   "metadata": {
    "id": "be4e9bd3-a4db-4a20-82fb-6b02fc2957e0"
   },
   "source": [
    "###### Выводы по предварительному анализу данных\n",
    "\n",
    "Наша база вакансий состоит из 6-ти sql-таблиц, взаимосвязанных между собой. Самая информативная таблица с вакансиями - vacancies (49 197 записей), которая взвимосвязана с таблицами employers (работодатели - 23 501 записи) и  areas (регионы - 1 362 записи) через идентификаторы. В свою очередь таблица employers связана с таблицей areas и таблицей industries (сферы деятельности - 294 записи) через вспомогательную таблицу employers_industries, состоящую из идентификаторов работодателей и сфер деятельности.\n",
    "\n",
    "Мы можем увидеть около 50 тыс. вакансий и вдвое меньшее колличество работодателей. Получается, что у одного работодателя в среднем 2 размещенных вакансии. Попробуем разобраться при дальнейшем более детальном анализе базы данных. "
   ]
  },
  {
   "cell_type": "markdown",
   "id": "8d62a9f3-f64e-4fe7-bdac-c4dffa16155e",
   "metadata": {
    "id": "8d62a9f3-f64e-4fe7-bdac-c4dffa16155e"
   },
   "source": [
    "# Юнит 4. Детальный анализ вакансий"
   ]
  },
  {
   "cell_type": "markdown",
   "id": "93053d3d-b284-481a-9cf7-012d7014c0e0",
   "metadata": {
    "id": "93053d3d-b284-481a-9cf7-012d7014c0e0"
   },
   "source": [
    "1. Напишите запрос, который позволит узнать, сколько (cnt) вакансий в каждом регионе (area).\n",
    "Отсортируйте по количеству вакансий в порядке убывания."
   ]
  },
  {
   "cell_type": "code",
   "execution_count": 4,
   "id": "3f069da6-fdc9-4ae7-b514-fafe2675efd3",
   "metadata": {
    "id": "3f069da6-fdc9-4ae7-b514-fafe2675efd3"
   },
   "outputs": [
    {
     "name": "stderr",
     "output_type": "stream",
     "text": [
      "C:\\Users\\afina\\AppData\\Local\\Temp\\ipykernel_10024\\3718816395.py:15: UserWarning: pandas only supports SQLAlchemy connectable (engine/connection) or database string URI or sqlite3 DBAPI2 connection. Other DBAPI2 objects are not tested. Please consider using SQLAlchemy.\n",
      "  df_4_1 = pd.read_sql_query(query_4_1, connection) # Запишем результат sql-запроса query_4_1 в дата-фрейм df_4_1\n"
     ]
    },
    {
     "data": {
      "text/html": [
       "<div>\n",
       "<style scoped>\n",
       "    .dataframe tbody tr th:only-of-type {\n",
       "        vertical-align: middle;\n",
       "    }\n",
       "\n",
       "    .dataframe tbody tr th {\n",
       "        vertical-align: top;\n",
       "    }\n",
       "\n",
       "    .dataframe thead th {\n",
       "        text-align: right;\n",
       "    }\n",
       "</style>\n",
       "<table border=\"1\" class=\"dataframe\">\n",
       "  <thead>\n",
       "    <tr style=\"text-align: right;\">\n",
       "      <th></th>\n",
       "      <th>areas_name</th>\n",
       "      <th>Количество вакансий</th>\n",
       "    </tr>\n",
       "  </thead>\n",
       "  <tbody>\n",
       "    <tr>\n",
       "      <th>0</th>\n",
       "      <td>Москва</td>\n",
       "      <td>5333</td>\n",
       "    </tr>\n",
       "    <tr>\n",
       "      <th>1</th>\n",
       "      <td>Санкт-Петербург</td>\n",
       "      <td>2851</td>\n",
       "    </tr>\n",
       "    <tr>\n",
       "      <th>2</th>\n",
       "      <td>Минск</td>\n",
       "      <td>2112</td>\n",
       "    </tr>\n",
       "    <tr>\n",
       "      <th>3</th>\n",
       "      <td>Новосибирск</td>\n",
       "      <td>2006</td>\n",
       "    </tr>\n",
       "    <tr>\n",
       "      <th>4</th>\n",
       "      <td>Алматы</td>\n",
       "      <td>1892</td>\n",
       "    </tr>\n",
       "  </tbody>\n",
       "</table>\n",
       "</div>"
      ],
      "text/plain": [
       "        areas_name  Количество вакансий\n",
       "0           Москва                 5333\n",
       "1  Санкт-Петербург                 2851\n",
       "2            Минск                 2112\n",
       "3      Новосибирск                 2006\n",
       "4           Алматы                 1892"
      ]
     },
     "metadata": {},
     "output_type": "display_data"
    }
   ],
   "source": [
    "'''Создаем f-строку query_4_1 для запроса sql-таблицам areas и vacancies для получения необходимого\n",
    "дата-фрейма, который сможет ответить на вопрос задания '''\n",
    "\n",
    "query_4_1 = f'''SELECT\n",
    "                    a.name as areas_name,  --первый столбец таблицы будет выдавать название региона\n",
    "                    COUNT(v.id) as \"Количество вакансий\" --второй столбец будет подсчитывать колличество вакансий в регионе\n",
    "                        FROM \n",
    "                        areas a --соединяем в запросе таблицы areas и vacancies по идентификаторам региона\n",
    "                        JOIN vacancies v ON v.area_id = a.id  \n",
    "                        GROUP BY areas_name --группируем строки таблицы по названиям регионов\n",
    "                        ORDER BY 2 DESC --сортировать будем данные по второму столбцу в порядке убывания\n",
    "                        LIMIT 5 --будем выводить первые пять записей сводной таблицы\n",
    "             '''\n",
    "\n",
    "df_4_1 = pd.read_sql_query(query_4_1, connection) # Запишем результат sql-запроса query_4_1 в дата-фрейм df_4_1\n",
    "display(df_4_1) # выводим на печать дата-фрейм df_4_1"
   ]
  },
  {
   "cell_type": "markdown",
   "id": "284c51b5",
   "metadata": {
    "id": "P7QL86hrjhRJ"
   },
   "source": [
    "Как и ожидалось - лидер по колличеству размещенных вакансий - Москва и Санкт-Петербург, при чем Москва идет с значительным отрывом - около 5 тыс.вакансий, Санкт-Петербург - около 3 тыс. вакансий, Минск, Новосибирск и Алматы - около 2 тыс. вакансий."
   ]
  },
  {
   "cell_type": "markdown",
   "id": "4266f0b6-1646-492a-88b4-2f6a46502135",
   "metadata": {
    "id": "4266f0b6-1646-492a-88b4-2f6a46502135"
   },
   "source": [
    "2. Напишите запрос, чтобы определить у какого количества вакансий заполнено хотя бы одно из двух полей с зарплатой."
   ]
  },
  {
   "cell_type": "code",
   "execution_count": 4,
   "id": "0c44b350-72eb-4d65-8b54-a1fc449ba9fd",
   "metadata": {
    "id": "0c44b350-72eb-4d65-8b54-a1fc449ba9fd"
   },
   "outputs": [
    {
     "name": "stderr",
     "output_type": "stream",
     "text": [
      "C:\\Users\\afina\\AppData\\Local\\Temp\\ipykernel_8452\\4194015420.py:10: UserWarning: pandas only supports SQLAlchemy connectable (engine/connection) or database string URI or sqlite3 DBAPI2 connection. Other DBAPI2 objects are not tested. Please consider using SQLAlchemy.\n",
      "  df_4_2 = pd.read_sql_query(query_4_2, connection) # Запишем результат sql-запроса query_4_2 в дата-фрейм df_4_2\n"
     ]
    },
    {
     "data": {
      "text/html": [
       "<div>\n",
       "<style scoped>\n",
       "    .dataframe tbody tr th:only-of-type {\n",
       "        vertical-align: middle;\n",
       "    }\n",
       "\n",
       "    .dataframe tbody tr th {\n",
       "        vertical-align: top;\n",
       "    }\n",
       "\n",
       "    .dataframe thead th {\n",
       "        text-align: right;\n",
       "    }\n",
       "</style>\n",
       "<table border=\"1\" class=\"dataframe\">\n",
       "  <thead>\n",
       "    <tr style=\"text-align: right;\">\n",
       "      <th></th>\n",
       "      <th>Количество вакансий</th>\n",
       "    </tr>\n",
       "  </thead>\n",
       "  <tbody>\n",
       "    <tr>\n",
       "      <th>0</th>\n",
       "      <td>24073</td>\n",
       "    </tr>\n",
       "  </tbody>\n",
       "</table>\n",
       "</div>"
      ],
      "text/plain": [
       "   Количество вакансий\n",
       "0                24073"
      ]
     },
     "metadata": {},
     "output_type": "display_data"
    }
   ],
   "source": [
    "'''Создаем f-строку query_4_2 для запроса sql-таблице vacancies для получения необходимого\n",
    "дата-фрейма, который сможет ответить на вопрос задания '''\n",
    "\n",
    "query_4_2 = f'''SELECT \n",
    "                    COUNT(vacancies.id) as \"Количество вакансий\" --суммируем число записей, удовлетворяющих заданному критерию\n",
    "                    FROM   \n",
    "                    vacancies --делаем запрос к sql-таблице vacancies\n",
    "                    WHERE salary_from IS NOT NULL or salary_to IS NOT NULL --отфильтровываем записи, в которых заполнено хотя бы одно из двух полей с зарплатой  \n",
    "             '''\n",
    "df_4_2 = pd.read_sql_query(query_4_2, connection) # Запишем результат sql-запроса query_4_2 в дата-фрейм df_4_2\n",
    "display(df_4_2) # выводим на печать дата-фрейм df_4_2"
   ]
  },
  {
   "cell_type": "markdown",
   "id": "d31e29f7",
   "metadata": {
    "id": "rhvwaMDkoWTi"
   },
   "source": [
    "Колличество вакансий, где заполнено хотя бы одно из двух полей с зарплатой - 24 703, при том, что общее число записей в таблице вакансии около 50 тыс., значит у больше половины вакансий не указана вообще информация о предлагаемом уровне заработной платы. "
   ]
  },
  {
   "cell_type": "markdown",
   "id": "635c4d5d-f323-4c66-b428-50a088120aa0",
   "metadata": {
    "id": "635c4d5d-f323-4c66-b428-50a088120aa0"
   },
   "source": [
    "3. Найдите средние значения для нижней и верхней границы зарплатной вилки. Округлите значения до целого."
   ]
  },
  {
   "cell_type": "code",
   "execution_count": 5,
   "id": "603cdbe4-0ec3-4106-8eaf-c73fcdd29165",
   "metadata": {
    "id": "603cdbe4-0ec3-4106-8eaf-c73fcdd29165"
   },
   "outputs": [
    {
     "name": "stderr",
     "output_type": "stream",
     "text": [
      "C:\\Users\\afina\\AppData\\Local\\Temp\\ipykernel_8452\\1346851623.py:13: UserWarning: pandas only supports SQLAlchemy connectable (engine/connection) or database string URI or sqlite3 DBAPI2 connection. Other DBAPI2 objects are not tested. Please consider using SQLAlchemy.\n",
      "  df_4_3 = pd.read_sql_query(query_4_3, connection) # Запишем результат sql-запроса query_4_3 в дата-фрейм df_4_3\n"
     ]
    },
    {
     "data": {
      "text/html": [
       "<div>\n",
       "<style scoped>\n",
       "    .dataframe tbody tr th:only-of-type {\n",
       "        vertical-align: middle;\n",
       "    }\n",
       "\n",
       "    .dataframe tbody tr th {\n",
       "        vertical-align: top;\n",
       "    }\n",
       "\n",
       "    .dataframe thead th {\n",
       "        text-align: right;\n",
       "    }\n",
       "</style>\n",
       "<table border=\"1\" class=\"dataframe\">\n",
       "  <thead>\n",
       "    <tr style=\"text-align: right;\">\n",
       "      <th></th>\n",
       "      <th>средние по нижней границе заработ</th>\n",
       "      <th>средние по верхней границе зарабо</th>\n",
       "    </tr>\n",
       "  </thead>\n",
       "  <tbody>\n",
       "    <tr>\n",
       "      <th>0</th>\n",
       "      <td>71065.0</td>\n",
       "      <td>110537.0</td>\n",
       "    </tr>\n",
       "  </tbody>\n",
       "</table>\n",
       "</div>"
      ],
      "text/plain": [
       "   средние по нижней границе заработ  средние по верхней границе зарабо\n",
       "0                            71065.0                           110537.0"
      ]
     },
     "metadata": {},
     "output_type": "display_data"
    }
   ],
   "source": [
    "'''Создаем f-строку query_4_3 для запроса sql-таблице vacancies для получения необходимого\n",
    "дата-фрейма, который сможет ответить на вопрос задания '''\n",
    "\n",
    "query_4_3 = f'''SELECT \n",
    "                    ROUND (AVG(salary_from)) AS \"средние по нижней границе заработной платы\",\n",
    "                    -- в первый столбец попадет усредненное значение нижнего уровня желаемой заработной платы\n",
    "                    ROUND (AVG(salary_to)) AS \"средние по верхней границе заработной платы\"\n",
    "                    -- во второй столбец попадет усредненное значение верхнего уровня желаемой заработной платы\n",
    "                    FROM \n",
    "                    vacancies --делаем запрос к sql-таблице vacancies\n",
    "             '''\n",
    "\n",
    "df_4_3 = pd.read_sql_query(query_4_3, connection) # Запишем результат sql-запроса query_4_3 в дата-фрейм df_4_3\n",
    "display(df_4_3) # выводим на печать дата-фрейм df_4_3"
   ]
  },
  {
   "cell_type": "markdown",
   "id": "e2574b91",
   "metadata": {
    "id": "pswpAb66ovZZ"
   },
   "source": [
    "По размещенным вакансиям усредненный нижний уровень заработной платы - около 71 тыс. рублей, а усредненный верхний уровень заработной платы - около 110,5 тыс. рублей"
   ]
  },
  {
   "cell_type": "markdown",
   "id": "f3fdaec9-5fd3-4260-9cf5-1d7406b628a5",
   "metadata": {
    "id": "f3fdaec9-5fd3-4260-9cf5-1d7406b628a5"
   },
   "source": [
    "4. Напишите запрос, который выведет количество вакансий для каждого сочетания типа рабочего графика (schedule) и типа трудоустройства (employment), используемого в вакансиях. Результат отсортируйте по убыванию количества.\n"
   ]
  },
  {
   "cell_type": "code",
   "execution_count": 4,
   "id": "1ea710ec-871b-431e-9462-c7d0fd87011b",
   "metadata": {
    "id": "1ea710ec-871b-431e-9462-c7d0fd87011b"
   },
   "outputs": [
    {
     "name": "stderr",
     "output_type": "stream",
     "text": [
      "C:\\Users\\afina\\AppData\\Local\\Temp\\ipykernel_19728\\3985129258.py:14: UserWarning: pandas only supports SQLAlchemy connectable (engine/connection) or database string URI or sqlite3 DBAPI2 connection. Other DBAPI2 objects are not tested. Please consider using SQLAlchemy.\n",
      "  df_4_4 = pd.read_sql_query(query_4_4, connection)# Запишем результат sql-запроса query_4_4 в дата-фрейм df_4_4\n"
     ]
    },
    {
     "data": {
      "text/html": [
       "<div>\n",
       "<style scoped>\n",
       "    .dataframe tbody tr th:only-of-type {\n",
       "        vertical-align: middle;\n",
       "    }\n",
       "\n",
       "    .dataframe tbody tr th {\n",
       "        vertical-align: top;\n",
       "    }\n",
       "\n",
       "    .dataframe thead th {\n",
       "        text-align: right;\n",
       "    }\n",
       "</style>\n",
       "<table border=\"1\" class=\"dataframe\">\n",
       "  <thead>\n",
       "    <tr style=\"text-align: right;\">\n",
       "      <th></th>\n",
       "      <th>Тип рабочего графика</th>\n",
       "      <th>Тип трудоустройства</th>\n",
       "      <th>Количество вакансий</th>\n",
       "    </tr>\n",
       "  </thead>\n",
       "  <tbody>\n",
       "    <tr>\n",
       "      <th>0</th>\n",
       "      <td>Полный день</td>\n",
       "      <td>Полная занятость</td>\n",
       "      <td>35367</td>\n",
       "    </tr>\n",
       "    <tr>\n",
       "      <th>1</th>\n",
       "      <td>Удаленная работа</td>\n",
       "      <td>Полная занятость</td>\n",
       "      <td>7802</td>\n",
       "    </tr>\n",
       "  </tbody>\n",
       "</table>\n",
       "</div>"
      ],
      "text/plain": [
       "  Тип рабочего графика Тип трудоустройства  Количество вакансий\n",
       "0          Полный день    Полная занятость                35367\n",
       "1     Удаленная работа    Полная занятость                 7802"
      ]
     },
     "execution_count": 4,
     "metadata": {},
     "output_type": "execute_result"
    }
   ],
   "source": [
    "'''Создаем f-строку query_4_4 для запроса sql-таблице vacancies для получения необходимого\n",
    "дата-фрейма, который сможет ответить на вопрос задания '''\n",
    "\n",
    "query_4_4 = f'''SELECT \n",
    "                    vacancies.schedule as \"Тип рабочего графика\", --в первый столбец выводим информацию, объявленную в его названии\n",
    "                    vacancies.employment as \"Тип трудоустройства\",--во второй столбец выводим информацию, объявленную в его названии\n",
    "                    COUNT(vacancies.id) as \"Количество вакансий\"  --подсчитываем число вакансий по каждой группе\n",
    "                    FROM   \n",
    "                    vacancies --делаем запрос к sql-таблице vacancies\n",
    "                    GROUP BY vacancies.schedule,vacancies.employment --группируем записи сначала по типу рабочего графика, а далее по типу трудоустройства\n",
    "                    ORDER BY 3 DESC --сортируем записи по третьему столбцу в порядке убывания\n",
    "                    LIMIT 2 --выводим первые две записи\n",
    "             '''\n",
    "df_4_4 = pd.read_sql_query(query_4_4, connection)# Запишем результат sql-запроса query_4_4 в дата-фрейм df_4_4\n",
    "df_4_4 # выводим на печать дата-фрейм df_4_4"
   ]
  },
  {
   "cell_type": "markdown",
   "id": "f33151df",
   "metadata": {
    "id": "lGUVqavdo4JQ"
   },
   "source": [
    "Наибольшее число вакансий - около 35 тыс. предлагают тип рабочего графика \"полный день\" и тип трудоустройства \"полная знаятость\". На втором месте группа из почти 8 тыс. вакансий с типом рабочего графика \"удаленная работа\" и типом трудоустройства \"полная знаятость\". Оставшиеся виды комбинаций типа рабочего графика и типа трудоустройства - получается около 7 тыс. вакансий. "
   ]
  },
  {
   "cell_type": "markdown",
   "id": "0136ffee-0ead-4a6b-b608-61d1c753a438",
   "metadata": {
    "id": "0136ffee-0ead-4a6b-b608-61d1c753a438"
   },
   "source": [
    "5. Напишите запрос, выводящий значения поля Требуемый опыт работы (experience) в порядке возрастания количества вакансий, в которых указан данный вариант опыта. "
   ]
  },
  {
   "cell_type": "code",
   "execution_count": 17,
   "id": "5b3a8e79-f7ab-4008-b767-12aea3a205ea",
   "metadata": {
    "id": "5b3a8e79-f7ab-4008-b767-12aea3a205ea"
   },
   "outputs": [
    {
     "name": "stderr",
     "output_type": "stream",
     "text": [
      "C:\\Users\\afina\\AppData\\Local\\Temp\\ipykernel_19248\\248953652.py:10: UserWarning: pandas only supports SQLAlchemy connectable (engine/connection) or database string URI or sqlite3 DBAPI2 connection. Other DBAPI2 objects are not tested. Please consider using SQLAlchemy.\n",
      "  df_4_5 = pd.read_sql_query(query_4_5, connection)\n"
     ]
    },
    {
     "data": {
      "text/html": [
       "<div>\n",
       "<style scoped>\n",
       "    .dataframe tbody tr th:only-of-type {\n",
       "        vertical-align: middle;\n",
       "    }\n",
       "\n",
       "    .dataframe tbody tr th {\n",
       "        vertical-align: top;\n",
       "    }\n",
       "\n",
       "    .dataframe thead th {\n",
       "        text-align: right;\n",
       "    }\n",
       "</style>\n",
       "<table border=\"1\" class=\"dataframe\">\n",
       "  <thead>\n",
       "    <tr style=\"text-align: right;\">\n",
       "      <th></th>\n",
       "      <th>Опыт работы</th>\n",
       "      <th>Количество вакансий</th>\n",
       "    </tr>\n",
       "  </thead>\n",
       "  <tbody>\n",
       "    <tr>\n",
       "      <th>0</th>\n",
       "      <td>Более 6 лет</td>\n",
       "      <td>1337</td>\n",
       "    </tr>\n",
       "    <tr>\n",
       "      <th>1</th>\n",
       "      <td>Нет опыта</td>\n",
       "      <td>7197</td>\n",
       "    </tr>\n",
       "    <tr>\n",
       "      <th>2</th>\n",
       "      <td>От 3 до 6 лет</td>\n",
       "      <td>14511</td>\n",
       "    </tr>\n",
       "    <tr>\n",
       "      <th>3</th>\n",
       "      <td>От 1 года до 3 лет</td>\n",
       "      <td>26152</td>\n",
       "    </tr>\n",
       "  </tbody>\n",
       "</table>\n",
       "</div>"
      ],
      "text/plain": [
       "          Опыт работы  Количество вакансий\n",
       "0         Более 6 лет                 1337\n",
       "1           Нет опыта                 7197\n",
       "2       От 3 до 6 лет                14511\n",
       "3  От 1 года до 3 лет                26152"
      ]
     },
     "execution_count": 17,
     "metadata": {},
     "output_type": "execute_result"
    }
   ],
   "source": [
    "'''Создаем f-строку query_4_5 для запроса sql-таблице vacancies для получения необходимого\n",
    "дата-фрейма, который сможет ответить на вопрос задания '''\n",
    "\n",
    "query_4_5 = f'''SELECT \n",
    "                    vacancies.experience as \"Опыт работы\", --в первый столбец выводим значения показателя \"опыт работы\"-experience \n",
    "                    COUNT(vacancies.id) as \"Количество вакансий\" --во второй столбец выводим просуммированное колличество записей по сгруппированным записям \"опыт работы\"-experience\n",
    "                    FROM   \n",
    "                    vacancies --делаем запрос к sql-таблице vacancies\n",
    "                    GROUP BY vacancies.experience --группируем записи по значениям показателя \"опыт работы\"-experience\n",
    "                    ORDER BY 2 ASC --сортируем, получившиеся значения просуммированных сгруппированных записей в порядке возрастания\n",
    "                    LIMIT 4 --выводим первые четыре записи\n",
    "            '''\n",
    "df_4_5 = pd.read_sql_query(query_4_5, connection) # Запишем результат sql-запроса query_4_5 в дата-фрейм df_4_5\n",
    "df_4_5 # выводим на печать дата-фрейм df_4_5"
   ]
  },
  {
   "cell_type": "markdown",
   "id": "d680343e",
   "metadata": {
    "id": "3Is64Y-hpDpq"
   },
   "source": [
    "Наименьшее число записей в таблице вакансий с опытом работы более 6 лет - около 1 тыс., далее идут записи с предложением вакансий без опыта работы - около  7 тыс., опыт работы от 3-х до 6-ти лет имеют 14,5 тыс. вакансий, опыт работы от 1 года до 3-х лет имеют более половины вакансий из таблицы - 26 тыс. \"Медианная группа\" вакансий по показателю опыт работы это вакансии с опытом работы от 1 года до 3-х лет. Наибольшее число, размещенных вакансий для людей, проработавших по специальности более трех лет. А самые опытные специалисты с опытом работы болле 6 лет составляют самую маленькую группу. Скорее всего этих специалистов работодатели находят другим способом - \"не через объявления\"."
   ]
  },
  {
   "cell_type": "markdown",
   "id": "oq2b7n1QpIka",
   "metadata": {
    "id": "oq2b7n1QpIka"
   },
   "source": [
    "***"
   ]
  },
  {
   "cell_type": "markdown",
   "id": "9243e52d",
   "metadata": {
    "id": "e91f87ed-e25c-4f96-9f92-b642e8c0b4fa"
   },
   "source": [
    "## Выводы по детальному анализу вакансий\n",
    "\n",
    "Чем крупнее город тем большее колличество вакансий в нем требуется. Больше половины вакансий не указывает информацию об уровне заработной платы - ни верхнюю ни нижнюю планку. Из тех вакансий, где указан желаемый уровень заработной платы - усредненный показатель составил - от 71 тыс. рублей до 110,5 тыс. рублей. Большая часть вакансий предлагает полную занятость и на полный рабочий день, хотя есть и существенная группа вакансий для работников готовых работать на удаленной работе при полной занятости (сфера АйТи этому способствует). Больщшая часть вакансий для соискателей, имеющих минимальный опыт работы - до 3-х лет, далее идет группа от 3-х до 6-ти лет, за ними следуют вакансии для людей без опыта работы и самая маленькая группа - люди с опытом работы более 6-ти лет, гипотезу  - почему эта группа самая маленькая - я писал в выводах к результатам пятого задания."
   ]
  },
  {
   "cell_type": "markdown",
   "id": "7ea20ab6-04a7-40a0-adec-443a0e5a42c3",
   "metadata": {
    "id": "7ea20ab6-04a7-40a0-adec-443a0e5a42c3"
   },
   "source": [
    "# Юнит 5. Анализ работодателей"
   ]
  },
  {
   "cell_type": "markdown",
   "id": "968aed80-74ef-4ffb-b5bf-c65b84e9caea",
   "metadata": {
    "id": "968aed80-74ef-4ffb-b5bf-c65b84e9caea"
   },
   "source": [
    "1. Напишите запрос, который позволит узнать, какие работодатели находятся на первом и пятом месте по количеству вакансий."
   ]
  },
  {
   "cell_type": "code",
   "execution_count": 4,
   "id": "f2d62796-d400-4ec1-a675-88112739a50e",
   "metadata": {
    "id": "f2d62796-d400-4ec1-a675-88112739a50e"
   },
   "outputs": [
    {
     "name": "stderr",
     "output_type": "stream",
     "text": [
      "C:\\Users\\afina\\AppData\\Local\\Temp\\ipykernel_4304\\277049511.py:27: UserWarning: pandas only supports SQLAlchemy connectable (engine/connection) or database string URI or sqlite3 DBAPI2 connection. Other DBAPI2 objects are not tested. Please consider using SQLAlchemy.\n",
      "  df_5_1 = pd.read_sql_query(query_5_1, connection)  # Запишем результат sql-запроса query_5_1 в дата-фрейм df_5_1\n"
     ]
    },
    {
     "data": {
      "text/html": [
       "<div>\n",
       "<style scoped>\n",
       "    .dataframe tbody tr th:only-of-type {\n",
       "        vertical-align: middle;\n",
       "    }\n",
       "\n",
       "    .dataframe tbody tr th {\n",
       "        vertical-align: top;\n",
       "    }\n",
       "\n",
       "    .dataframe thead th {\n",
       "        text-align: right;\n",
       "    }\n",
       "</style>\n",
       "<table border=\"1\" class=\"dataframe\">\n",
       "  <thead>\n",
       "    <tr style=\"text-align: right;\">\n",
       "      <th></th>\n",
       "      <th>Название работодателя</th>\n",
       "      <th>Количество вакансий</th>\n",
       "    </tr>\n",
       "  </thead>\n",
       "  <tbody>\n",
       "    <tr>\n",
       "      <th>0</th>\n",
       "      <td>Яндекс</td>\n",
       "      <td>1933</td>\n",
       "    </tr>\n",
       "    <tr>\n",
       "      <th>1</th>\n",
       "      <td>Газпром нефть</td>\n",
       "      <td>331</td>\n",
       "    </tr>\n",
       "  </tbody>\n",
       "</table>\n",
       "</div>"
      ],
      "text/plain": [
       "  Название работодателя  Количество вакансий\n",
       "0                Яндекс                 1933\n",
       "1         Газпром нефть                  331"
      ]
     },
     "execution_count": 4,
     "metadata": {},
     "output_type": "execute_result"
    }
   ],
   "source": [
    "'''Создаем f-строку query_5_1 для запроса sql-таблице vacancies для получения необходимого\n",
    "дата-фрейма, который сможет ответить на вопрос задания '''\n",
    "\n",
    "query_5_1 = f'''(SELECT \n",
    "                    employers.name as \"Название работодателя\", -- в первом столбце будет как написано название работодателя\n",
    "                    COUNT(vacancies.id) as \"Количество вакансий\" -- во втором столбце будем выводить колличество вакансий работодателя\n",
    "                    FROM   \n",
    "                    employers --делаем запрос к sql-таблице employers\n",
    "                    JOIN vacancies ON vacancies.employer_id = employers.id --соединенной с таблицей \n",
    "                    -- vacancies по идентификатору работодатель в обоих таблицах\n",
    "                    GROUP BY employers.name -- группируем по названиям работодателей\n",
    "                    ORDER BY 2 DESC -- сортируем таблицу по второму столбцу по убыванию\n",
    "                    LIMIT 1 -- указываем первую запись запроса\n",
    "                )\n",
    "                UNION ALL -- присоединяем этот же запрос, но уже с пятой записью\n",
    "                (SELECT\n",
    "                    employers.name as \"Название работодателя\",\n",
    "                    COUNT(vacancies.id) as \"Количество вакансий\"\n",
    "                    FROM   \n",
    "                    employers\n",
    "                    JOIN vacancies ON vacancies.employer_id = employers.id\n",
    "                    GROUP BY employers.name\n",
    "                    ORDER BY 2 DESC\n",
    "                    OFFSET 4 LIMIT 1) -- указываем пятую запись запроса\n",
    "            '''\n",
    "\n",
    "df_5_1 = pd.read_sql_query(query_5_1, connection)  # Запишем результат sql-запроса query_5_1 в дата-фрейм df_5_1\n",
    "df_5_1 # выводим на печать дата-фрейм df_5_1"
   ]
  },
  {
   "cell_type": "markdown",
   "id": "729b2060",
   "metadata": {
    "id": "64tOMkAxqkQk"
   },
   "source": [
    "Как и ожидалось - лидерами по предлагаемым вакансиям являются крупные и известные компании."
   ]
  },
  {
   "cell_type": "markdown",
   "id": "68377cfc-b378-43dc-ab7d-1195abf2c515",
   "metadata": {
    "id": "68377cfc-b378-43dc-ab7d-1195abf2c515"
   },
   "source": [
    "2. Напишите запрос, который для каждого региона выведет количество работодателей и вакансий в нём.\n",
    "Среди регионов, в которых нет вакансий, найдите тот, в котором наибольшее количество работодателей.\n"
   ]
  },
  {
   "cell_type": "code",
   "execution_count": 5,
   "id": "dd7df27a-e3e8-412e-a21a-5d389b71e891",
   "metadata": {
    "id": "dd7df27a-e3e8-412e-a21a-5d389b71e891"
   },
   "outputs": [
    {
     "name": "stderr",
     "output_type": "stream",
     "text": [
      "C:\\Users\\afina\\AppData\\Local\\Temp\\ipykernel_8204\\1801434670.py:19: UserWarning: pandas only supports SQLAlchemy connectable (engine/connection) or database string URI or sqlite3 DBAPI2 connection. Other DBAPI2 objects are not tested. Please consider using SQLAlchemy.\n",
      "  df_5_2 = pd.read_sql_query(query_5_2, connection) # Запишем результат sql-запроса query_5_2 в дата-фрейм df_5_2\n"
     ]
    },
    {
     "data": {
      "text/html": [
       "<div>\n",
       "<style scoped>\n",
       "    .dataframe tbody tr th:only-of-type {\n",
       "        vertical-align: middle;\n",
       "    }\n",
       "\n",
       "    .dataframe tbody tr th {\n",
       "        vertical-align: top;\n",
       "    }\n",
       "\n",
       "    .dataframe thead th {\n",
       "        text-align: right;\n",
       "    }\n",
       "</style>\n",
       "<table border=\"1\" class=\"dataframe\">\n",
       "  <thead>\n",
       "    <tr style=\"text-align: right;\">\n",
       "      <th></th>\n",
       "      <th>Название региона</th>\n",
       "      <th>Количество работодателей</th>\n",
       "      <th>Количество вакансий</th>\n",
       "    </tr>\n",
       "  </thead>\n",
       "  <tbody>\n",
       "    <tr>\n",
       "      <th>0</th>\n",
       "      <td>Россия</td>\n",
       "      <td>410</td>\n",
       "      <td>0</td>\n",
       "    </tr>\n",
       "  </tbody>\n",
       "</table>\n",
       "</div>"
      ],
      "text/plain": [
       "  Название региона  Количество работодателей  Количество вакансий\n",
       "0           Россия                       410                    0"
      ]
     },
     "execution_count": 5,
     "metadata": {},
     "output_type": "execute_result"
    }
   ],
   "source": [
    "'''Создаем f-строку query_5_2 для запроса sql-таблице vacancies для получения необходимого\n",
    "дата-фрейма, который сможет ответить на вопрос задания '''\n",
    "\n",
    "query_5_2 = f'''SELECT \n",
    "                    a.name as \"Название региона\", -- в первом столбце показываем название региона\n",
    "                    COUNT(distinct e.id) as \"Количество работодателей\", --суммируем колличество работодателей для этого региона без дублирования\n",
    "                    COUNT(distinct v.id) as \"Количество вакансий\" --суммируем колличество вакансий для этого региона без дублирования\n",
    "                    FROM   \n",
    "                    areas a --делаем запрос к sql-таблице areas\n",
    "                    JOIN employers e ON e.area = a.id --соединенной с sql-таблицей \n",
    "                    -- employers по идентификатору регион в обоих таблицах\n",
    "                    LEFT JOIN vacancies v ON v.area_id = a.id -- к соединенной таблице слева присоединяем таблицу \n",
    "                    -- vacancies по идентификатору региона\n",
    "                    WHERE v.id is NULL -- в агригированной таблице берем записи с отсутствием вакансий - там где отсутствует идентификатор вакансии           GROUP BY a.name\n",
    "                    GROUP BY a.name -- группируем по наименованию региона\n",
    "                    ORDER BY 2 DESC -- сортируем таблицу по второму столбцу по убыванию\n",
    "                    LIMIT 1 -- выводим первую строку таблицу\n",
    "            '''\n",
    "df_5_2 = pd.read_sql_query(query_5_2, connection) # Запишем результат sql-запроса query_5_2 в дата-фрейм df_5_2\n",
    "df_5_2 # выводим на печать дата-фрейм df_5_2"
   ]
  },
  {
   "cell_type": "markdown",
   "id": "0027d862",
   "metadata": {
    "id": "x1ikWbydrbf6"
   },
   "source": [
    "В базе работодателей самый большой регион с отсутствием вакансий это назваение страны - Россия - это связано с тем, что сами работодатели могут работать по всей стране, но конкретные вакансии привязаны к конкретному месту в стране - городу, области, району и т.д."
   ]
  },
  {
   "cell_type": "markdown",
   "id": "f2fe0acb-ab1a-4e15-9326-2560e22d73c1",
   "metadata": {
    "id": "f2fe0acb-ab1a-4e15-9326-2560e22d73c1"
   },
   "source": [
    "3. Для каждого работодателя посчитайте количество регионов, в которых он публикует свои вакансии. Отсортируйте результат по убыванию количества.\n"
   ]
  },
  {
   "cell_type": "code",
   "execution_count": 4,
   "id": "6271f8ad-bd2e-4196-ae4a-5b39c4c1010e",
   "metadata": {
    "id": "6271f8ad-bd2e-4196-ae4a-5b39c4c1010e"
   },
   "outputs": [
    {
     "name": "stderr",
     "output_type": "stream",
     "text": [
      "C:\\Users\\afina\\AppData\\Local\\Temp\\ipykernel_19580\\2293705827.py:17: UserWarning: pandas only supports SQLAlchemy connectable (engine/connection) or database string URI or sqlite3 DBAPI2 connection. Other DBAPI2 objects are not tested. Please consider using SQLAlchemy.\n",
      "  df_5_3 = pd.read_sql_query (query_5_3, connection)  # Запишем результат sql-запроса query_5_3 в дата-фрейм df_5_3\n"
     ]
    },
    {
     "data": {
      "text/html": [
       "<div>\n",
       "<style scoped>\n",
       "    .dataframe tbody tr th:only-of-type {\n",
       "        vertical-align: middle;\n",
       "    }\n",
       "\n",
       "    .dataframe tbody tr th {\n",
       "        vertical-align: top;\n",
       "    }\n",
       "\n",
       "    .dataframe thead th {\n",
       "        text-align: right;\n",
       "    }\n",
       "</style>\n",
       "<table border=\"1\" class=\"dataframe\">\n",
       "  <thead>\n",
       "    <tr style=\"text-align: right;\">\n",
       "      <th></th>\n",
       "      <th>Название работодателя</th>\n",
       "      <th>Количество регионов где публикуют</th>\n",
       "      <th>Количество вакансий</th>\n",
       "    </tr>\n",
       "  </thead>\n",
       "  <tbody>\n",
       "    <tr>\n",
       "      <th>0</th>\n",
       "      <td>Яндекс</td>\n",
       "      <td>181</td>\n",
       "      <td>1933</td>\n",
       "    </tr>\n",
       "    <tr>\n",
       "      <th>1</th>\n",
       "      <td>Ростелеком</td>\n",
       "      <td>152</td>\n",
       "      <td>491</td>\n",
       "    </tr>\n",
       "    <tr>\n",
       "      <th>2</th>\n",
       "      <td>Тинькофф</td>\n",
       "      <td>43</td>\n",
       "      <td>444</td>\n",
       "    </tr>\n",
       "    <tr>\n",
       "      <th>3</th>\n",
       "      <td>СБЕР</td>\n",
       "      <td>24</td>\n",
       "      <td>428</td>\n",
       "    </tr>\n",
       "    <tr>\n",
       "      <th>4</th>\n",
       "      <td>Газпром нефть</td>\n",
       "      <td>24</td>\n",
       "      <td>331</td>\n",
       "    </tr>\n",
       "    <tr>\n",
       "      <th>5</th>\n",
       "      <td>ИК СИБИНТЕК</td>\n",
       "      <td>46</td>\n",
       "      <td>327</td>\n",
       "    </tr>\n",
       "    <tr>\n",
       "      <th>6</th>\n",
       "      <td>МТС</td>\n",
       "      <td>55</td>\n",
       "      <td>292</td>\n",
       "    </tr>\n",
       "    <tr>\n",
       "      <th>7</th>\n",
       "      <td>DataArt</td>\n",
       "      <td>2</td>\n",
       "      <td>247</td>\n",
       "    </tr>\n",
       "    <tr>\n",
       "      <th>8</th>\n",
       "      <td>Совкомбанк Технологии</td>\n",
       "      <td>26</td>\n",
       "      <td>204</td>\n",
       "    </tr>\n",
       "    <tr>\n",
       "      <th>9</th>\n",
       "      <td>Первый Бит</td>\n",
       "      <td>43</td>\n",
       "      <td>176</td>\n",
       "    </tr>\n",
       "  </tbody>\n",
       "</table>\n",
       "</div>"
      ],
      "text/plain": [
       "   Название работодателя  Количество регионов где публикуют  \\\n",
       "0                 Яндекс                                181   \n",
       "1             Ростелеком                                152   \n",
       "2               Тинькофф                                 43   \n",
       "3                   СБЕР                                 24   \n",
       "4          Газпром нефть                                 24   \n",
       "5            ИК СИБИНТЕК                                 46   \n",
       "6                    МТС                                 55   \n",
       "7                DataArt                                  2   \n",
       "8  Совкомбанк Технологии                                 26   \n",
       "9             Первый Бит                                 43   \n",
       "\n",
       "   Количество вакансий  \n",
       "0                 1933  \n",
       "1                  491  \n",
       "2                  444  \n",
       "3                  428  \n",
       "4                  331  \n",
       "5                  327  \n",
       "6                  292  \n",
       "7                  247  \n",
       "8                  204  \n",
       "9                  176  "
      ]
     },
     "execution_count": 4,
     "metadata": {},
     "output_type": "execute_result"
    }
   ],
   "source": [
    "'''Создаем f-строку query_5_3 для запроса sql-таблице vacancies для получения необходимого\n",
    "дата-фрейма, который сможет ответить на вопрос задания '''\n",
    "\n",
    "query_5_3 = f'''SELECT \n",
    "                    e.name as \"Название работодателя\", -- в первом столбце показываем название работодателя\n",
    "                    COUNT(distinct v.area_id) as \"Количество регионов где публикуются вакансии\", --суммируем колличество регионов без дублирования\n",
    "                    COUNT(distinct v.id) as \"Количество вакансий\" --суммируем колличество вакансий без дублирования\n",
    "                    FROM   \n",
    "                    employers e --делаем запрос к sql-таблице employers\n",
    "                    JOIN vacancies v ON v.employer_id = e.id --соединенной с таблицей \n",
    "                    -- vacancies по идентификатору работодатель в обоих таблицах\n",
    "                    GROUP BY e.name -- группируем по названию работодателя\n",
    "                    ORDER BY 3 DESC -- сортируем по третьему столбцу по убыванию\n",
    "                    LIMIT 10 --выводим первые десять записей таблицы\n",
    "             '''\n",
    "\n",
    "df_5_3 = pd.read_sql_query (query_5_3, connection)  # Запишем результат sql-запроса query_5_3 в дата-фрейм df_5_3\n",
    "df_5_3 # выводим на печать дата-фрейм df_5_3"
   ]
  },
  {
   "cell_type": "markdown",
   "id": "650c5ccd",
   "metadata": {
    "id": "1EIvX3HasH4F"
   },
   "source": [
    "Лидерами по числу размещенных вакансий и охвату регионов является компания Яндекс - она идет в существенном отрыве от остальных компаний. Компания Ростелеком хотя и уступает Яндексу по колличеству вакансий, но она почти не уступает Яндексу по охвату регионов. В следующую группу я бы выделил компании: Тинькофф, СБЕР, Газпром нефть, ИК СИБИНТЕК, МТС - они охватывают около 30-ти регионов и размещают около трехсот вакансий (я округлил \"на глаз\"). Интересна компания Data Art - она работает в 2-х регионах, но разместила довольно большое колличество вакансий."
   ]
  },
  {
   "cell_type": "markdown",
   "id": "eab2206d-d95b-468b-8e5f-34381abf0ce7",
   "metadata": {
    "id": "eab2206d-d95b-468b-8e5f-34381abf0ce7"
   },
   "source": [
    "4. Напишите запрос для подсчёта количества работодателей, у которых не указана сфера деятельности. "
   ]
  },
  {
   "cell_type": "code",
   "execution_count": 4,
   "id": "80defb23-bfb1-4a18-8be6-bf36aa7165d5",
   "metadata": {
    "id": "80defb23-bfb1-4a18-8be6-bf36aa7165d5"
   },
   "outputs": [
    {
     "name": "stderr",
     "output_type": "stream",
     "text": [
      "C:\\Users\\afina\\AppData\\Local\\Temp\\ipykernel_17720\\2520205357.py:13: UserWarning: pandas only supports SQLAlchemy connectable (engine/connection) or database string URI or sqlite3 DBAPI2 connection. Other DBAPI2 objects are not tested. Please consider using SQLAlchemy.\n",
      "  df_5_4 = pd.read_sql_query (query_5_4, connection) # Запишем результат sql-запроса query_5_4 в дата-фрейм df_5_4\n"
     ]
    },
    {
     "data": {
      "text/html": [
       "<div>\n",
       "<style scoped>\n",
       "    .dataframe tbody tr th:only-of-type {\n",
       "        vertical-align: middle;\n",
       "    }\n",
       "\n",
       "    .dataframe tbody tr th {\n",
       "        vertical-align: top;\n",
       "    }\n",
       "\n",
       "    .dataframe thead th {\n",
       "        text-align: right;\n",
       "    }\n",
       "</style>\n",
       "<table border=\"1\" class=\"dataframe\">\n",
       "  <thead>\n",
       "    <tr style=\"text-align: right;\">\n",
       "      <th></th>\n",
       "      <th>Количество работодателей</th>\n",
       "    </tr>\n",
       "  </thead>\n",
       "  <tbody>\n",
       "    <tr>\n",
       "      <th>0</th>\n",
       "      <td>8419</td>\n",
       "    </tr>\n",
       "  </tbody>\n",
       "</table>\n",
       "</div>"
      ],
      "text/plain": [
       "   Количество работодателей\n",
       "0                      8419"
      ]
     },
     "execution_count": 4,
     "metadata": {},
     "output_type": "execute_result"
    }
   ],
   "source": [
    "'''Создаем f-строку query_5_4 для запроса sql-таблице vacancies для получения необходимого\n",
    "дата-фрейма, который сможет ответить на вопрос задания '''\n",
    "\n",
    "query_5_4 = f'''SELECT\n",
    "                    COUNT(distinct e.id) as \"Количество работодателей\" -- суммируем колличество работодателей без дубляжа\n",
    "                    FROM   \n",
    "                    employers e --делаем запрос к sql-таблице employers\n",
    "                    LEFT JOIN employers_industries i ON e.id = i.employer_id -- к таблице слева присоединяем\n",
    "                    -- вспомогательную таблицу по идентификатору работодателя\n",
    "                    WHERE i.industry_id IS NULL -- берем те записи, у которых не указана сфера деятельности\n",
    "             '''\n",
    "\n",
    "df_5_4 = pd.read_sql_query (query_5_4, connection) # Запишем результат sql-запроса query_5_4 в дата-фрейм df_5_4\n",
    "df_5_4 # выводим на печать дата-фрейм df_5_4"
   ]
  },
  {
   "cell_type": "markdown",
   "id": "afcc4f6c",
   "metadata": {
    "id": "Dp_yCx6ysQSu"
   },
   "source": [
    "Получается, что почти у трети работодателей не указана сфера деятельности. Этот вопрос требует дополнительного изучения. Или это может крупная компания из 10-ки предыдущего задания или работодатель не счел нужным указать это в данных о себе - мелкие компании тоже могут пытаться работать в разных сферах деятельности."
   ]
  },
  {
   "cell_type": "markdown",
   "id": "0112af31-f6b0-4e3b-82ab-71296e752e5e",
   "metadata": {
    "id": "0112af31-f6b0-4e3b-82ab-71296e752e5e"
   },
   "source": [
    "5. Напишите запрос, чтобы узнать название компании, находящейся на третьем месте в алфавитном списке (по названию) компаний, у которых указано четыре сферы деятельности. "
   ]
  },
  {
   "cell_type": "code",
   "execution_count": 4,
   "id": "973b0cfc-a972-470a-8b4a-68744ef220c4",
   "metadata": {
    "id": "973b0cfc-a972-470a-8b4a-68744ef220c4"
   },
   "outputs": [
    {
     "name": "stderr",
     "output_type": "stream",
     "text": [
      "C:\\Users\\afina\\AppData\\Local\\Temp\\ipykernel_21624\\1496312146.py:17: UserWarning: pandas only supports SQLAlchemy connectable (engine/connection) or database string URI or sqlite3 DBAPI2 connection. Other DBAPI2 objects are not tested. Please consider using SQLAlchemy.\n",
      "  df_5_5 = pd.read_sql_query (query_5_5, connection)  # Запишем результат sql-запроса query_5_5 в дата-фрейм df_5_5\n"
     ]
    },
    {
     "data": {
      "text/html": [
       "<div>\n",
       "<style scoped>\n",
       "    .dataframe tbody tr th:only-of-type {\n",
       "        vertical-align: middle;\n",
       "    }\n",
       "\n",
       "    .dataframe tbody tr th {\n",
       "        vertical-align: top;\n",
       "    }\n",
       "\n",
       "    .dataframe thead th {\n",
       "        text-align: right;\n",
       "    }\n",
       "</style>\n",
       "<table border=\"1\" class=\"dataframe\">\n",
       "  <thead>\n",
       "    <tr style=\"text-align: right;\">\n",
       "      <th></th>\n",
       "      <th>Название работодателя</th>\n",
       "      <th>Количество сфер деятельности</th>\n",
       "    </tr>\n",
       "  </thead>\n",
       "  <tbody>\n",
       "    <tr>\n",
       "      <th>0</th>\n",
       "      <td>2ГИС</td>\n",
       "      <td>4</td>\n",
       "    </tr>\n",
       "  </tbody>\n",
       "</table>\n",
       "</div>"
      ],
      "text/plain": [
       "  Название работодателя  Количество сфер деятельности\n",
       "0                  2ГИС                             4"
      ]
     },
     "execution_count": 4,
     "metadata": {},
     "output_type": "execute_result"
    }
   ],
   "source": [
    "'''Создаем f-строку query_5_5 для запроса sql-таблице vacancies для получения необходимого\n",
    "дата-фрейма, который сможет ответить на вопрос задания '''\n",
    "\n",
    "query_5_5 = f'''SELECT\n",
    "                    e.name as \"Название работодателя\", -- в первом столбце показываем название работодателя\n",
    "                    COUNT(distinct i.industry_id) as \"Количество сфер деятельности\" -- во втором столбце суммируем сферы деятельности\n",
    "                    FROM   \n",
    "                    employers e --делаем запрос к sql-таблице employers\n",
    "                    LEFT JOIN employers_industries i ON e.id = i.employer_id -- к таблице слева присоединяем\n",
    "                    -- вспомогательную таблицу по идентификатору работодателя\n",
    "                    GROUP BY e.name -- группируем по названию работодателя\n",
    "                    HAVING COUNT(distinct i.industry_id) = 4 -- фильтруем записи только с 4-мя сферами деятельности\n",
    "                    ORDER BY 1 ASC --сортируем записи по алфавиту в порядке возрастания\n",
    "                    OFFSET 2 LIMIT 1 -- берем третью запись из таблицы\n",
    "             '''\n",
    "\n",
    "df_5_5 = pd.read_sql_query (query_5_5, connection)  # Запишем результат sql-запроса query_5_5 в дата-фрейм df_5_5\n",
    "df_5_5 # выводим на печать дата-фрейм df_5_5"
   ]
  },
  {
   "cell_type": "markdown",
   "id": "3cc0ab6e",
   "metadata": {
    "id": "xsPtpp8EsaED"
   },
   "source": [
    "Результат выполнения этого задания не дает нам информацию для анализа - здесь мы просто тренируем навыки работы с sql-запросами."
   ]
  },
  {
   "cell_type": "markdown",
   "id": "3bfcfdaf-755d-4d2b-8ed8-326201dc07ab",
   "metadata": {
    "id": "3bfcfdaf-755d-4d2b-8ed8-326201dc07ab"
   },
   "source": [
    "6. С помощью запроса выясните, у какого количества работодателей в качестве сферы деятельности указана Разработка программного обеспечения.\n"
   ]
  },
  {
   "cell_type": "code",
   "execution_count": 4,
   "id": "ad3f270f-2991-47eb-929b-e8f88a55b0d1",
   "metadata": {
    "id": "ad3f270f-2991-47eb-929b-e8f88a55b0d1"
   },
   "outputs": [
    {
     "name": "stderr",
     "output_type": "stream",
     "text": [
      "C:\\Users\\afina\\AppData\\Local\\Temp\\ipykernel_19864\\1682323519.py:15: UserWarning: pandas only supports SQLAlchemy connectable (engine/connection) or database string URI or sqlite3 DBAPI2 connection. Other DBAPI2 objects are not tested. Please consider using SQLAlchemy.\n",
      "  df_5_6 = pd.read_sql_query (query_5_6, connection)  # Запишем результат sql-запроса query_5_6 в дата-фрейм df_5_6\n"
     ]
    },
    {
     "data": {
      "text/html": [
       "<div>\n",
       "<style scoped>\n",
       "    .dataframe tbody tr th:only-of-type {\n",
       "        vertical-align: middle;\n",
       "    }\n",
       "\n",
       "    .dataframe tbody tr th {\n",
       "        vertical-align: top;\n",
       "    }\n",
       "\n",
       "    .dataframe thead th {\n",
       "        text-align: right;\n",
       "    }\n",
       "</style>\n",
       "<table border=\"1\" class=\"dataframe\">\n",
       "  <thead>\n",
       "    <tr style=\"text-align: right;\">\n",
       "      <th></th>\n",
       "      <th>Количество работодателей</th>\n",
       "    </tr>\n",
       "  </thead>\n",
       "  <tbody>\n",
       "    <tr>\n",
       "      <th>0</th>\n",
       "      <td>3553</td>\n",
       "    </tr>\n",
       "  </tbody>\n",
       "</table>\n",
       "</div>"
      ],
      "text/plain": [
       "   Количество работодателей\n",
       "0                      3553"
      ]
     },
     "execution_count": 4,
     "metadata": {},
     "output_type": "execute_result"
    }
   ],
   "source": [
    "'''Создаем f-строку query_5_6 для запроса sql-таблице vacancies для получения необходимого\n",
    "дата-фрейма, который сможет ответить на вопрос задания '''\n",
    "\n",
    "query_5_6 = f'''SELECT\n",
    "                    COUNT(distinct e.id) as \"Количество работодателей\" --суммируем колличество работодателей в сфере без дубляжа\n",
    "                    FROM   \n",
    "                    public.EMPLOYERS e --делаем запрос к sql-таблице employers  \n",
    "                    LEFT JOIN public.EMPLOYERS_INDUSTRIES i ON e.id = i.employer_id -- к таблице слева присоединяем\n",
    "                    -- вспомогательную таблицу по идентификатору работодателя\n",
    "                    JOIN public.INDUSTRIES y ON y.id = i.industry_id\n",
    "                    --присоединяем еще третью таблицу со сферами деятельности через иднтификатор сферы деятельности\n",
    "                    WHERE y.name = 'Разработка программного обеспечения' --отфильтровуем нужную нам сферу деятельности\n",
    "             '''\n",
    "\n",
    "df_5_6 = pd.read_sql_query (query_5_6, connection)  # Запишем результат sql-запроса query_5_6 в дата-фрейм df_5_6\n",
    "df_5_6 # выводим на печать дата-фрейм df_5_6"
   ]
  },
  {
   "cell_type": "markdown",
   "id": "73f297b4",
   "metadata": {
    "id": "H72qxWM0shPR"
   },
   "source": [
    "Примерно 15 % работодателей из базы работают в сфере 'Разработка программного обеспечения'"
   ]
  },
  {
   "cell_type": "markdown",
   "id": "7b02bb86-0546-40fb-94a4-242f050a5c57",
   "metadata": {
    "id": "7b02bb86-0546-40fb-94a4-242f050a5c57"
   },
   "source": [
    "7. Для компании «Яндекс» выведите список регионов-миллионников, в которых представлены вакансии компании, вместе с количеством вакансий в этих регионах. Также добавьте строку Total с общим количеством вакансий компании. Результат отсортируйте по возрастанию количества.\n",
    "\n",
    "Список городов-милионников надо взять [отсюда](https://ru.wikipedia.org/wiki/%D0%93%D0%BE%D1%80%D0%BE%D0%B4%D0%B0-%D0%BC%D0%B8%D0%BB%D0%BB%D0%B8%D0%BE%D0%BD%D0%B5%D1%80%D1%8B_%D0%A0%D0%BE%D1%81%D1%81%D0%B8%D0%B8). \n",
    "\n",
    "Если возникнут трудности с этим задание посмотрите материалы модуля  PYTHON-17. Как получать данные из веб-источников и API. "
   ]
  },
  {
   "cell_type": "code",
   "execution_count": 4,
   "id": "ZdfrL6gIs1Pn",
   "metadata": {
    "id": "ZdfrL6gIs1Pn"
   },
   "outputs": [],
   "source": [
    "# Данный код необходим нам для создания списка городов-миллионников mln_cities\n",
    "\n",
    "from urllib.parse import quote_plus\n",
    "url = quote_plus('https://ru.wikipedia.org/wiki/Города-миллионеры_России', safe=':/')\n",
    "tables = pd.read_html(url)\n",
    "mln_cities = tables[1]['Город'].values.tolist()"
   ]
  },
  {
   "cell_type": "code",
   "execution_count": 5,
   "id": "3bd6e39c",
   "metadata": {},
   "outputs": [
    {
     "data": {
      "text/plain": [
       "['Саратов', 'Тюмень']"
      ]
     },
     "execution_count": 5,
     "metadata": {},
     "output_type": "execute_result"
    }
   ],
   "source": [
    "mln_cities"
   ]
  },
  {
   "cell_type": "code",
   "execution_count": 6,
   "id": "12130f80",
   "metadata": {},
   "outputs": [],
   "source": [
    "import urllib.parse as req\n",
    "\n",
    "path_common = req.urlparse('https://ru.wikipedia.org/wiki/Города-миллионеры_России#Список_городов-миллионеров')\n",
    "url = path_common.scheme + '://' + req.quote(path_common.netloc) + req.quote(path_common.path) + '#'+ req.quote(path_common.fragment)\n",
    "mln_cities_2 = tuple(pd.read_html(url)[1]['Город'])"
   ]
  },
  {
   "cell_type": "markdown",
   "id": "a7625f46",
   "metadata": {},
   "source": [
    "Запрос перестал работать и я создал спсок городов-миллионников вручную."
   ]
  },
  {
   "cell_type": "code",
   "execution_count": 4,
   "id": "3c438460",
   "metadata": {},
   "outputs": [
    {
     "data": {
      "text/plain": [
       "('Саратов',\n",
       " 'Тюмень',\n",
       " 'Москва',\n",
       " 'Тюмень',\n",
       " 'Санкт-Петербург',\n",
       " 'Новосибирск',\n",
       " 'Екатеринбург',\n",
       " 'Казань',\n",
       " 'Красноярск',\n",
       " 'Нижний Новгород',\n",
       " 'Челябинск',\n",
       " 'Уфа',\n",
       " 'Самара',\n",
       " 'Ростов-на-Дону',\n",
       " 'Краснодар',\n",
       " 'Омск',\n",
       " 'Воронеж',\n",
       " 'Пермь',\n",
       " 'Волгоград')"
      ]
     },
     "execution_count": 4,
     "metadata": {},
     "output_type": "execute_result"
    }
   ],
   "source": [
    "mln_cities_2 = ('Саратов', 'Тюмень', 'Москва', 'Тюмень', 'Санкт-Петербург', 'Новосибирск', 'Екатеринбург', 'Казань', 'Красноярск', 'Нижний Новгород', 'Челябинск', 'Уфа', 'Самара', 'Ростов-на-Дону', 'Краснодар', 'Омск', 'Воронеж', 'Пермь', 'Волгоград')\n",
    "mln_cities_2"
   ]
  },
  {
   "cell_type": "code",
   "execution_count": 5,
   "id": "5a0e32a4-e68a-4365-8a39-2fe24c542c36",
   "metadata": {
    "id": "5a0e32a4-e68a-4365-8a39-2fe24c542c36"
   },
   "outputs": [
    {
     "name": "stderr",
     "output_type": "stream",
     "text": [
      "C:\\Users\\afina\\AppData\\Local\\Temp\\ipykernel_19212\\3201569354.py:40: UserWarning: pandas only supports SQLAlchemy connectable (engine/connection) or database string URI or sqlite3 DBAPI2 connection. Other DBAPI2 objects are not tested. Please consider using SQLAlchemy.\n",
      "  df_5_7 = pd.read_sql_query (query_5_7, connection) # Запишем результат sql-запроса query_5_7 в дата-фрейм df_5_7\n"
     ]
    },
    {
     "data": {
      "text/html": [
       "<div>\n",
       "<style scoped>\n",
       "    .dataframe tbody tr th:only-of-type {\n",
       "        vertical-align: middle;\n",
       "    }\n",
       "\n",
       "    .dataframe tbody tr th {\n",
       "        vertical-align: top;\n",
       "    }\n",
       "\n",
       "    .dataframe thead th {\n",
       "        text-align: right;\n",
       "    }\n",
       "</style>\n",
       "<table border=\"1\" class=\"dataframe\">\n",
       "  <thead>\n",
       "    <tr style=\"text-align: right;\">\n",
       "      <th></th>\n",
       "      <th>region</th>\n",
       "      <th>vacancies_count</th>\n",
       "    </tr>\n",
       "  </thead>\n",
       "  <tbody>\n",
       "    <tr>\n",
       "      <th>0</th>\n",
       "      <td>Тюмень</td>\n",
       "      <td>20.0</td>\n",
       "    </tr>\n",
       "    <tr>\n",
       "      <th>1</th>\n",
       "      <td>Омск</td>\n",
       "      <td>21.0</td>\n",
       "    </tr>\n",
       "    <tr>\n",
       "      <th>2</th>\n",
       "      <td>Челябинск</td>\n",
       "      <td>22.0</td>\n",
       "    </tr>\n",
       "    <tr>\n",
       "      <th>3</th>\n",
       "      <td>Саратов</td>\n",
       "      <td>23.0</td>\n",
       "    </tr>\n",
       "    <tr>\n",
       "      <th>4</th>\n",
       "      <td>Красноярск</td>\n",
       "      <td>23.0</td>\n",
       "    </tr>\n",
       "    <tr>\n",
       "      <th>5</th>\n",
       "      <td>Волгоград</td>\n",
       "      <td>24.0</td>\n",
       "    </tr>\n",
       "    <tr>\n",
       "      <th>6</th>\n",
       "      <td>Ростов-на-Дону</td>\n",
       "      <td>25.0</td>\n",
       "    </tr>\n",
       "    <tr>\n",
       "      <th>7</th>\n",
       "      <td>Казань</td>\n",
       "      <td>25.0</td>\n",
       "    </tr>\n",
       "    <tr>\n",
       "      <th>8</th>\n",
       "      <td>Пермь</td>\n",
       "      <td>25.0</td>\n",
       "    </tr>\n",
       "    <tr>\n",
       "      <th>9</th>\n",
       "      <td>Уфа</td>\n",
       "      <td>26.0</td>\n",
       "    </tr>\n",
       "    <tr>\n",
       "      <th>10</th>\n",
       "      <td>Самара</td>\n",
       "      <td>26.0</td>\n",
       "    </tr>\n",
       "    <tr>\n",
       "      <th>11</th>\n",
       "      <td>Краснодар</td>\n",
       "      <td>30.0</td>\n",
       "    </tr>\n",
       "    <tr>\n",
       "      <th>12</th>\n",
       "      <td>Воронеж</td>\n",
       "      <td>32.0</td>\n",
       "    </tr>\n",
       "    <tr>\n",
       "      <th>13</th>\n",
       "      <td>Новосибирск</td>\n",
       "      <td>35.0</td>\n",
       "    </tr>\n",
       "    <tr>\n",
       "      <th>14</th>\n",
       "      <td>Нижний Новгород</td>\n",
       "      <td>36.0</td>\n",
       "    </tr>\n",
       "    <tr>\n",
       "      <th>15</th>\n",
       "      <td>Екатеринбург</td>\n",
       "      <td>39.0</td>\n",
       "    </tr>\n",
       "    <tr>\n",
       "      <th>16</th>\n",
       "      <td>Санкт-Петербург</td>\n",
       "      <td>42.0</td>\n",
       "    </tr>\n",
       "    <tr>\n",
       "      <th>17</th>\n",
       "      <td>Москва</td>\n",
       "      <td>54.0</td>\n",
       "    </tr>\n",
       "    <tr>\n",
       "      <th>18</th>\n",
       "      <td>Total</td>\n",
       "      <td>528.0</td>\n",
       "    </tr>\n",
       "  </tbody>\n",
       "</table>\n",
       "</div>"
      ],
      "text/plain": [
       "             region  vacancies_count\n",
       "0            Тюмень             20.0\n",
       "1              Омск             21.0\n",
       "2         Челябинск             22.0\n",
       "3           Саратов             23.0\n",
       "4        Красноярск             23.0\n",
       "5         Волгоград             24.0\n",
       "6    Ростов-на-Дону             25.0\n",
       "7            Казань             25.0\n",
       "8             Пермь             25.0\n",
       "9               Уфа             26.0\n",
       "10           Самара             26.0\n",
       "11        Краснодар             30.0\n",
       "12          Воронеж             32.0\n",
       "13      Новосибирск             35.0\n",
       "14  Нижний Новгород             36.0\n",
       "15     Екатеринбург             39.0\n",
       "16  Санкт-Петербург             42.0\n",
       "17           Москва             54.0\n",
       "18            Total            528.0"
      ]
     },
     "execution_count": 5,
     "metadata": {},
     "output_type": "execute_result"
    }
   ],
   "source": [
    "'''Создаем f-строку query_5_7 для запроса sql-таблице vacancies для получения необходимого\n",
    "дата-фрейма, который сможет ответить на вопрос задания '''\n",
    "\n",
    "query_5_7 = f'''\n",
    "                SELECT\n",
    "                    a.name as region, --в первом столбце пишем название региона\n",
    "                    COUNT(*) as vacancies_count --суммируем колличество вакансий для данного региона\n",
    "                    FROM\n",
    "                    vacancies as v --делаем запрос к sql-таблице vacancies\n",
    "                    JOIN employers as e ON v.employer_id = e.id --соединяем ее с таблицей работодателей через идентификатор работодателя\n",
    "                    JOIN areas as a ON v.area_id = a.id -- и с таблицей регионы через идентификатор регионов\n",
    "                    GROUP BY\n",
    "                    v.area_id, a.name, e.id, e.name -- группируем записи последовательно по схеме\n",
    "                    -- идентификатор региона-название региона-идентификатор работодателя- название работодателя\n",
    "                    HAVING\n",
    "                    a.name IN {tuple(mln_cities_2)} AND e.name = 'Яндекс'--фильтруем таблицу по названию региона из списка городов-миллионников и названия работодаителя - Яндекс\n",
    "    \n",
    "                UNION ALL -- присоединяем ниже строку Total с общим количеством вакансий компании Яндекс \n",
    "                SELECT\n",
    "                    'Total', -- первый столбец записи называем - Total\n",
    "                    SUM(x.cnt) -- передаем просуммированное общее колличество вакансий из запроса\n",
    "                FROM\n",
    "                (\n",
    "                    SELECT\n",
    "                        COUNT(*) as cnt --суммируем число вакансий\n",
    "                        FROM\n",
    "                        vacancies as v --делаем запрос к sql-таблице vacancies\n",
    "                        JOIN employers as e ON v.employer_id = e.id --соединяем ее с таблицей работодателей через идентификатор работодателя\n",
    "                        JOIN areas as a ON v.area_id = a.id -- и с таблицей регионы через идентификатор регионов\n",
    "                        GROUP BY\n",
    "                        v.area_id, a.name, e.id, e.name -- группируем записи последовательно по схеме\n",
    "                        -- идентификатор региона-название региона-идентификатор работодателя- название работодателя\n",
    "                        HAVING\n",
    "                        a.name IN {tuple(mln_cities_2)} AND e.name = 'Яндекс'--фильтруем таблицу по названию региона из списка городов-миллионников и названия работодаителя - Яндекс\n",
    "                ) AS x -- результат второго запроса называем переменной x\n",
    "        \n",
    "                ORDER BY 2 -- полученную таблицу сортируем по колличеству вакансий\n",
    "            '''\n",
    "\n",
    "df_5_7 = pd.read_sql_query (query_5_7, connection) # Запишем результат sql-запроса query_5_7 в дата-фрейм df_5_7\n",
    "df_5_7  # выводим на печать дата-фрейм df_5_7"
   ]
  },
  {
   "cell_type": "markdown",
   "id": "6aa90390",
   "metadata": {
    "id": "ttPhiO1rsvPq"
   },
   "source": [
    "Мы видим, что компания Яндекс разместила предложения о найме работникам во всех городах-миллионниках. Самое большое число размещенных вакансий в Москве, далее Санкт-Петербург и т.д. Чем крупнее город - тем больше вакансий - вполне ожидаемая закономерность."
   ]
  },
  {
   "cell_type": "markdown",
   "id": "04966e40-3bc3-4dc8-9ba2-e80580ce3abc",
   "metadata": {
    "id": "04966e40-3bc3-4dc8-9ba2-e80580ce3abc"
   },
   "source": [
    "***"
   ]
  },
  {
   "cell_type": "markdown",
   "id": "80c594d4",
   "metadata": {
    "id": "aGGyER-yt4SR"
   },
   "source": [
    "# Выводы по анализу работодателей\n",
    "\n",
    "Лидером по размещенным вакансиям в данной базе является компания Яндекс - она охватывает самое большое колличество регионов и разместила больше всего вакансий. Она такжк представлена во всех крупных городах России. Около 15 % работодателей работают в сфере \"Разработка програмного обеспечения\"."
   ]
  },
  {
   "cell_type": "markdown",
   "id": "b1ef156a-efcb-49ce-bb23-90763e7f35b2",
   "metadata": {
    "id": "b1ef156a-efcb-49ce-bb23-90763e7f35b2",
    "tags": []
   },
   "source": [
    "# Юнит 6. Предметный анализ"
   ]
  },
  {
   "cell_type": "markdown",
   "id": "b9cd50a0-992d-4988-8463-2b2b1c4629b4",
   "metadata": {
    "id": "b9cd50a0-992d-4988-8463-2b2b1c4629b4"
   },
   "source": [
    "1. Сколько вакансий имеет отношение к данным?\n",
    "\n",
    "Считаем, что вакансия имеет отношение к данным, если в её названии содержатся слова 'data' или 'данн'.\n",
    "\n",
    "*Подсказка: Обратите внимание, что названия вакансий могут быть написаны в любом регистре.* \n"
   ]
  },
  {
   "cell_type": "code",
   "execution_count": 4,
   "id": "54ab0e50-c0f1-47cc-a54b-bc5c8bc363f9",
   "metadata": {
    "id": "54ab0e50-c0f1-47cc-a54b-bc5c8bc363f9"
   },
   "outputs": [
    {
     "name": "stderr",
     "output_type": "stream",
     "text": [
      "C:\\Users\\afina\\AppData\\Local\\Temp\\ipykernel_17628\\1513116677.py:10: UserWarning: pandas only supports SQLAlchemy connectable (engine/connection) or database string URI or sqlite3 DBAPI2 connection. Other DBAPI2 objects are not tested. Please consider using SQLAlchemy.\n",
      "  df_6_1 = pd.read_sql_query (query_6_1, connection) # Запишем результат sql-запроса query_6_1 в дата-фрейм df_6_1\n"
     ]
    },
    {
     "data": {
      "text/html": [
       "<div>\n",
       "<style scoped>\n",
       "    .dataframe tbody tr th:only-of-type {\n",
       "        vertical-align: middle;\n",
       "    }\n",
       "\n",
       "    .dataframe tbody tr th {\n",
       "        vertical-align: top;\n",
       "    }\n",
       "\n",
       "    .dataframe thead th {\n",
       "        text-align: right;\n",
       "    }\n",
       "</style>\n",
       "<table border=\"1\" class=\"dataframe\">\n",
       "  <thead>\n",
       "    <tr style=\"text-align: right;\">\n",
       "      <th></th>\n",
       "      <th>count</th>\n",
       "    </tr>\n",
       "  </thead>\n",
       "  <tbody>\n",
       "    <tr>\n",
       "      <th>0</th>\n",
       "      <td>1771</td>\n",
       "    </tr>\n",
       "  </tbody>\n",
       "</table>\n",
       "</div>"
      ],
      "text/plain": [
       "   count\n",
       "0   1771"
      ]
     },
     "execution_count": 4,
     "metadata": {},
     "output_type": "execute_result"
    }
   ],
   "source": [
    "'''Создаем f-строку query_6_1 для запроса sql-таблице vacancies для получения необходимого\n",
    "дата-фрейма, который сможет ответить на вопрос задания '''\n",
    "\n",
    "query_6_1 = '''SELECT\n",
    "                    COUNT(*) --считаем число записей в отфильтрованной таблице\n",
    "                    FROM vacancies --делаем запрос к sql-таблице vacancies\n",
    "                    WHERE name ILIKE '%data%' OR name ILIKE '%данн%' -- с помощью оператора ILIKE отбираем вакансии, в тексте описания которых присутствуют корни data- или данн-\n",
    "            '''\n",
    "\n",
    "df_6_1 = pd.read_sql_query (query_6_1, connection) # Запишем результат sql-запроса query_6_1 в дата-фрейм df_6_1\n",
    "df_6_1 # выводим на печать дата-фрейм df_6_1"
   ]
  },
  {
   "cell_type": "markdown",
   "id": "8853b0ba",
   "metadata": {
    "id": "9F1meAqsuUjd"
   },
   "source": [
    "Проводя лексическую обработку названия вакансии мы видим, что из 50 тыс. вакансий в базе почти 2 тыс. относятся к работе с данными. "
   ]
  },
  {
   "cell_type": "markdown",
   "id": "4dea20cb-a36b-474a-a0b9-e08e8e3857a5",
   "metadata": {
    "id": "4dea20cb-a36b-474a-a0b9-e08e8e3857a5"
   },
   "source": [
    "2. Сколько есть подходящих вакансий для начинающего дата-сайентиста? \n",
    "Будем считать вакансиями для дата-сайентистов такие, в названии которых есть хотя бы одно из следующих сочетаний:\n",
    "* 'data scientist'\n",
    "* 'data science'\n",
    "* 'исследователь данных'\n",
    "* 'ML' (здесь не нужно брать вакансии по HTML)\n",
    "* 'machine learning'\n",
    "* 'машинн%обучен%'\n",
    "\n",
    "** В следующих заданиях мы продолжим работать с вакансиями по этому условию.*\n",
    "\n",
    "Считаем вакансиями для специалистов уровня Junior следующие:\n",
    "* в названии есть слово 'junior' *или*\n",
    "* требуемый опыт — Нет опыта *или*\n",
    "* тип трудоустройства — Стажировка.\n",
    " "
   ]
  },
  {
   "cell_type": "code",
   "execution_count": 16,
   "id": "9c61b3c0-bb66-46c9-ae1e-81d3f5752b4a",
   "metadata": {
    "id": "9c61b3c0-bb66-46c9-ae1e-81d3f5752b4a"
   },
   "outputs": [
    {
     "name": "stderr",
     "output_type": "stream",
     "text": [
      "C:\\Users\\afina\\AppData\\Local\\Temp\\ipykernel_11360\\2622205437.py:21: UserWarning: pandas only supports SQLAlchemy connectable (engine/connection) or database string URI or sqlite3 DBAPI2 connection. Other DBAPI2 objects are not tested. Please consider using SQLAlchemy.\n",
      "  df_6_2 = pd.read_sql_query (query_6_2, connection)\n"
     ]
    },
    {
     "data": {
      "text/html": [
       "<div>\n",
       "<style scoped>\n",
       "    .dataframe tbody tr th:only-of-type {\n",
       "        vertical-align: middle;\n",
       "    }\n",
       "\n",
       "    .dataframe tbody tr th {\n",
       "        vertical-align: top;\n",
       "    }\n",
       "\n",
       "    .dataframe thead th {\n",
       "        text-align: right;\n",
       "    }\n",
       "</style>\n",
       "<table border=\"1\" class=\"dataframe\">\n",
       "  <thead>\n",
       "    <tr style=\"text-align: right;\">\n",
       "      <th></th>\n",
       "      <th>count</th>\n",
       "    </tr>\n",
       "  </thead>\n",
       "  <tbody>\n",
       "    <tr>\n",
       "      <th>0</th>\n",
       "      <td>51</td>\n",
       "    </tr>\n",
       "  </tbody>\n",
       "</table>\n",
       "</div>"
      ],
      "text/plain": [
       "   count\n",
       "0     51"
      ]
     },
     "execution_count": 16,
     "metadata": {},
     "output_type": "execute_result"
    }
   ],
   "source": [
    "'''Создаем f-строку query_6_2 для запроса sql-таблице vacancies для получения необходимого\n",
    "дата-фрейма, который сможет ответить на вопрос задания '''\n",
    "\n",
    "query_6_2 = '''SELECT\n",
    "                    COUNT(*) --считаем число записей в отфильтрованной таблице\n",
    "                    FROM\n",
    "                    vacancies v --делаем запрос к sql-таблице vacancies\n",
    "                    WHERE -- проводим фильтрацию строк по названию вакансий\n",
    "                    -- а также по указанию в столбце опыт - 'Нет опыта', занятость - 'стажировка'\n",
    "                    (\n",
    "                     v.name ILIKE '%data scientist%' OR\n",
    "                     v.name ILIKE '%data science%' OR\n",
    "                     v.name ILIKE '%исследователь данных%' OR\n",
    "                     (v.name ILIKE '%ML%' AND v.name NOT ILIKE '%HTML%') OR\n",
    "                     v.name ILIKE '%machine learning%' OR v.name ILIKE '%машинн%обучен%'\n",
    "                     )\n",
    "                    AND\n",
    "                    (\n",
    "                     v.name ILIKE '%junior%' OR\n",
    "                     v.experience = 'Нет опыта' OR\n",
    "                     v.employment ILIKE '%стажировка%'\n",
    "                    )\n",
    "                '''\n",
    "\n",
    "df_6_2 = pd.read_sql_query (query_6_2, connection) # Запишем результат sql-запроса query_6_2 в дата-фрейм df_6_2\n",
    "df_6_2 # выводим на печать дата-фрейм df_6_2"
   ]
  },
  {
   "cell_type": "markdown",
   "id": "4471f9fd",
   "metadata": {
    "id": "ZNM-LLYuu1dj"
   },
   "source": [
    "Проводя лексическую обработку столбцов, описывающих вакансии мы видим, что из 50 тыс. вакансий в базе 51 - для начинающего дата-сайентиста. "
   ]
  },
  {
   "cell_type": "markdown",
   "id": "eedceb80-c5ca-480e-b27a-278dfb8b4438",
   "metadata": {
    "id": "eedceb80-c5ca-480e-b27a-278dfb8b4438"
   },
   "source": [
    "3. Сколько есть вакансий для DS, в которых в качестве ключевого навыка указан SQL или postgres?\n",
    "\n",
    "** Критерии для отнесения вакансии к DS указаны в предыдущем задании.*"
   ]
  },
  {
   "cell_type": "code",
   "execution_count": 4,
   "id": "69621713-0cc5-4f1b-a1d7-bb144fa6148c",
   "metadata": {
    "id": "69621713-0cc5-4f1b-a1d7-bb144fa6148c"
   },
   "outputs": [
    {
     "name": "stderr",
     "output_type": "stream",
     "text": [
      "C:\\Users\\afina\\AppData\\Local\\Temp\\ipykernel_19304\\2206134256.py:21: UserWarning: pandas only supports SQLAlchemy connectable (engine/connection) or database string URI or sqlite3 DBAPI2 connection. Other DBAPI2 objects are not tested. Please consider using SQLAlchemy.\n",
      "  df_6_3 = pd.read_sql_query (query_6_3, connection) # Запишем результат sql-запроса query_6_3 в дата-фрейм df_6_3\n"
     ]
    },
    {
     "data": {
      "text/html": [
       "<div>\n",
       "<style scoped>\n",
       "    .dataframe tbody tr th:only-of-type {\n",
       "        vertical-align: middle;\n",
       "    }\n",
       "\n",
       "    .dataframe tbody tr th {\n",
       "        vertical-align: top;\n",
       "    }\n",
       "\n",
       "    .dataframe thead th {\n",
       "        text-align: right;\n",
       "    }\n",
       "</style>\n",
       "<table border=\"1\" class=\"dataframe\">\n",
       "  <thead>\n",
       "    <tr style=\"text-align: right;\">\n",
       "      <th></th>\n",
       "      <th>n_vac</th>\n",
       "    </tr>\n",
       "  </thead>\n",
       "  <tbody>\n",
       "    <tr>\n",
       "      <th>0</th>\n",
       "      <td>229</td>\n",
       "    </tr>\n",
       "  </tbody>\n",
       "</table>\n",
       "</div>"
      ],
      "text/plain": [
       "   n_vac\n",
       "0    229"
      ]
     },
     "execution_count": 4,
     "metadata": {},
     "output_type": "execute_result"
    }
   ],
   "source": [
    "'''Создаем f-строку query_6_3 для запроса sql-таблице vacancies для получения необходимого\n",
    "дата-фрейма, который сможет ответить на вопрос задания '''\n",
    "\n",
    "query_6_3 = f'''\n",
    "                SELECT\n",
    "                    COUNT (vacancies.name) as n_vac --считаем число записей в отфильтрованной таблице\n",
    "                    FROM vacancies --делаем запрос к sql-таблице vacancies\n",
    "                    WHERE\n",
    "                    -- проводим фильтрацию вакансий по названиям, связанным с работой с данными\n",
    "                    (lower(vacancies.name) LIKE '%data scientist%' \n",
    "                    OR lower(vacancies.name) LIKE '%data science%' \n",
    "                    OR lower(vacancies.name) LIKE '%исследователь данных%' \n",
    "                    OR lower(vacancies.name) LIKE '%ml%' and vacancies.name NOT LIKE '%HTML%' and vacancies.name not like '%QML%' \n",
    "                    OR lower(vacancies.name) LIKE '%machine learning%' \n",
    "                    OR lower(vacancies.name) LIKE '%машинн%обучен%') \n",
    "                    AND\n",
    "                    -- а также дополнительно фильтруем навыки в записях, связанные с SQL или postgres\n",
    "                    (lower(vacancies.key_skills) LIKE '%postgres%' OR\n",
    "                     lower(vacancies.key_skills) LIKE '%sql%') \n",
    "              '''\n",
    "df_6_3 = pd.read_sql_query (query_6_3, connection) # Запишем результат sql-запроса query_6_3 в дата-фрейм df_6_3\n",
    "df_6_3 # выводим на печать дата-фрейм df_6_3"
   ]
  },
  {
   "cell_type": "markdown",
   "id": "d4066258",
   "metadata": {
    "id": "alA8WEAAvGdf"
   },
   "source": [
    "Из почти 2 тыс. вакансий, связанных с работой с данными около 200 имеют навыки работы с SQL или postgres"
   ]
  },
  {
   "cell_type": "markdown",
   "id": "1be1e9c6-37cf-4a5f-bfeb-04cab799dc80",
   "metadata": {
    "id": "1be1e9c6-37cf-4a5f-bfeb-04cab799dc80"
   },
   "source": [
    "4. Проверьте, насколько популярен Python в требованиях работодателей к DS.Для этого вычислите количество вакансий, в которых в качестве ключевого навыка указан Python.\n",
    "\n",
    "** Это можно сделать помощью запроса, аналогичного предыдущему.*"
   ]
  },
  {
   "cell_type": "code",
   "execution_count": 26,
   "id": "0036a355-9ccf-4564-8b01-73d8194297e7",
   "metadata": {
    "id": "0036a355-9ccf-4564-8b01-73d8194297e7"
   },
   "outputs": [
    {
     "name": "stderr",
     "output_type": "stream",
     "text": [
      "C:\\Users\\afina\\AppData\\Local\\Temp\\ipykernel_11360\\3087724236.py:20: UserWarning: pandas only supports SQLAlchemy connectable (engine/connection) or database string URI or sqlite3 DBAPI2 connection. Other DBAPI2 objects are not tested. Please consider using SQLAlchemy.\n",
      "  df_6_4 = pd.read_sql_query (query_6_4, connection)\n"
     ]
    },
    {
     "data": {
      "text/html": [
       "<div>\n",
       "<style scoped>\n",
       "    .dataframe tbody tr th:only-of-type {\n",
       "        vertical-align: middle;\n",
       "    }\n",
       "\n",
       "    .dataframe tbody tr th {\n",
       "        vertical-align: top;\n",
       "    }\n",
       "\n",
       "    .dataframe thead th {\n",
       "        text-align: right;\n",
       "    }\n",
       "</style>\n",
       "<table border=\"1\" class=\"dataframe\">\n",
       "  <thead>\n",
       "    <tr style=\"text-align: right;\">\n",
       "      <th></th>\n",
       "      <th>count</th>\n",
       "    </tr>\n",
       "  </thead>\n",
       "  <tbody>\n",
       "    <tr>\n",
       "      <th>0</th>\n",
       "      <td>357</td>\n",
       "    </tr>\n",
       "  </tbody>\n",
       "</table>\n",
       "</div>"
      ],
      "text/plain": [
       "   count\n",
       "0    357"
      ]
     },
     "execution_count": 26,
     "metadata": {},
     "output_type": "execute_result"
    }
   ],
   "source": [
    "'''Создаем f-строку query_6_4 для запроса sql-таблице vacancies для получения необходимого\n",
    "дата-фрейма, который сможет ответить на вопрос задания '''\n",
    "\n",
    "query_6_4 = f'''\n",
    "                SELECT\n",
    "                    COUNT(*) --считаем число записей в отфильтрованной таблице\n",
    "                    FROM\n",
    "                    vacancies v --делаем запрос к sql-таблице vacancies\n",
    "                    WHERE\n",
    "                    -- проводим фильтрацию вакансий по названиям, связанным с работой с данными\n",
    "                    -- а также - присутствие в опыте вакансии упоминания о Python \n",
    "                    (\n",
    "                    name ILIKE '%data scientist%'  OR\n",
    "                    name ILIKE  '%data science%' OR\n",
    "                    name ILIKE  '%исследователь данных%'  OR\n",
    "                    (\n",
    "                    name ILIKE  '%ML%' AND NAME NOT ILIKE '%HTML%')  OR\n",
    "                    name ILIKE '%machine learning%' OR  \n",
    "                    name ILIKE '%машинн%обучен%'\n",
    "                    )\n",
    "                    and\n",
    "                    key_skills ILIKE '%Python%'\n",
    "                '''\n",
    "\n",
    "df_6_4 = pd.read_sql_query (query_6_4, connection) # Запишем результат sql-запроса query_6_4 в дата-фрейм df_6_4\n",
    "df_6_4 # выводим на печать дата-фрейм df_6_4"
   ]
  },
  {
   "cell_type": "markdown",
   "id": "9c17d1c5",
   "metadata": {
    "id": "1i-5WyucvQ6v"
   },
   "source": [
    "Из 1700 вакансий для около 20 % требуется навыки работы с Python."
   ]
  },
  {
   "cell_type": "markdown",
   "id": "ec3c8db7-fa21-4a41-a994-1af63742a642",
   "metadata": {
    "id": "ec3c8db7-fa21-4a41-a994-1af63742a642"
   },
   "source": [
    "5. Сколько ключевых навыков в среднем указывают в вакансиях для DS?\n",
    "Ответ округлите до двух знаков после точки-разделителя."
   ]
  },
  {
   "cell_type": "code",
   "execution_count": 31,
   "id": "949132bc-d5b6-4611-8218-0b9a504d74f4",
   "metadata": {
    "id": "949132bc-d5b6-4611-8218-0b9a504d74f4"
   },
   "outputs": [
    {
     "name": "stderr",
     "output_type": "stream",
     "text": [
      "C:\\Users\\afina\\AppData\\Local\\Temp\\ipykernel_11360\\1682566586.py:18: UserWarning: pandas only supports SQLAlchemy connectable (engine/connection) or database string URI or sqlite3 DBAPI2 connection. Other DBAPI2 objects are not tested. Please consider using SQLAlchemy.\n",
      "  df_6_5 = pd.read_sql_query (query_6_5, connection)\n"
     ]
    },
    {
     "data": {
      "text/html": [
       "<div>\n",
       "<style scoped>\n",
       "    .dataframe tbody tr th:only-of-type {\n",
       "        vertical-align: middle;\n",
       "    }\n",
       "\n",
       "    .dataframe tbody tr th {\n",
       "        vertical-align: top;\n",
       "    }\n",
       "\n",
       "    .dataframe thead th {\n",
       "        text-align: right;\n",
       "    }\n",
       "</style>\n",
       "<table border=\"1\" class=\"dataframe\">\n",
       "  <thead>\n",
       "    <tr style=\"text-align: right;\">\n",
       "      <th></th>\n",
       "      <th>result</th>\n",
       "    </tr>\n",
       "  </thead>\n",
       "  <tbody>\n",
       "    <tr>\n",
       "      <th>0</th>\n",
       "      <td>6.41</td>\n",
       "    </tr>\n",
       "  </tbody>\n",
       "</table>\n",
       "</div>"
      ],
      "text/plain": [
       "   result\n",
       "0    6.41"
      ]
     },
     "execution_count": 31,
     "metadata": {},
     "output_type": "execute_result"
    }
   ],
   "source": [
    "'''Создаем f-строку query_6_5 для запроса sql-таблице vacancies для получения необходимого\n",
    "дата-фрейма, который сможет ответить на вопрос задания '''\n",
    "\n",
    "query_6_5 = f'''\n",
    "                SELECT \n",
    "                ROUND(AVG(LENGTH(key_skills)-LENGTH(REPLACE(key_skills, CHR(9), ''))+1), 2) as result\n",
    "                -- выводим результат обработки в строках столбца key_skills \n",
    "                -- из длины исходной строки вычесть длину строки, в которой все вхождения этого символа заменены на пустую строку ('')\n",
    "                -- Ключевые навыки разделены символами табуляции. В SQL этот символ обозначается как CHR(9).\n",
    "                -- Число символов табуляции + 1 говорит о числе навыков в вакансии\n",
    "                -- Результат такой обработки строк мы округляем до 2-х знаков после запятой\n",
    "                FROM \n",
    "                vacancies v --делаем запрос к sql-таблице vacancies\n",
    "                WHERE\n",
    "                -- проводим фильтрацию вакансий по названиям, связанным с работой с данными\n",
    "                (\n",
    "                  name ILIKE '%data scientist%' OR\n",
    "                  name ILIKE '%data science%' OR\n",
    "                  name ILIKE '%исследователь данных%' OR\n",
    "                (\n",
    "                  name LIKE '%ML%' AND name NOT ILIKE '%HTML%') OR\n",
    "                  name ILIKE '%machine learning%' OR\n",
    "                  name ILIKE '%машинн%обучен%'\n",
    "                )\n",
    "             '''\n",
    "\n",
    "df_6_5 = pd.read_sql_query (query_6_5, connection) # Запишем результат sql-запроса query_6_5 в дата-фрейм df_6_5\n",
    "df_6_5 # выводим на печать дата-фрейм df_6_5"
   ]
  },
  {
   "cell_type": "markdown",
   "id": "68f31f1c",
   "metadata": {
    "id": "a3V24Tvmviqk"
   },
   "source": [
    "В вреднем по вакансиям в DS требуется 6,41 навык."
   ]
  },
  {
   "cell_type": "markdown",
   "id": "1041c17a-ca8f-4543-a0ca-32778914fb00",
   "metadata": {
    "id": "1041c17a-ca8f-4543-a0ca-32778914fb00"
   },
   "source": [
    "6. Напишите запрос, позволяющий вычислить, какую зарплату для DS в **среднем** указывают для каждого типа требуемого опыта (уникальное значение из поля *experience*). \n",
    "\n",
    "При решении задачи примите во внимание следующее:\n",
    "1. Рассматриваем только вакансии, у которых заполнено хотя бы одно из двух полей с зарплатой.\n",
    "2. Если заполнены оба поля с зарплатой, то считаем зарплату по каждой вакансии как сумму двух полей, делённую на 2. Если заполнено только одно из полей, то его и считаем зарплатой по вакансии.\n",
    "3. Если в расчётах участвует null, в результате он тоже даст null (посмотрите, что возвращает запрос select 1 + null). Чтобы избежать этой ситуацию, мы воспользуемся функцией [coalesce](https://postgrespro.ru/docs/postgresql/9.5/functions-conditional#functions-coalesce-nvl-ifnull), которая заменит null на значение, которое мы передадим. Например, посмотрите, что возвращает запрос `select 1 + coalesce(null, 0)`\n",
    "\n",
    "Выясните, на какую зарплату в среднем может рассчитывать дата-сайентист с опытом работы от 3 до 6 лет. Результат округлите до целого числа. "
   ]
  },
  {
   "cell_type": "code",
   "execution_count": 36,
   "id": "6a743d39-5204-48d3-8271-b9f88e68d40e",
   "metadata": {
    "id": "6a743d39-5204-48d3-8271-b9f88e68d40e"
   },
   "outputs": [
    {
     "name": "stderr",
     "output_type": "stream",
     "text": [
      "C:\\Users\\afina\\AppData\\Local\\Temp\\ipykernel_11360\\744937547.py:22: UserWarning: pandas only supports SQLAlchemy connectable (engine/connection) or database string URI or sqlite3 DBAPI2 connection. Other DBAPI2 objects are not tested. Please consider using SQLAlchemy.\n",
      "  df_6_6 = pd.read_sql_query (query_6_6, connection)\n"
     ]
    },
    {
     "data": {
      "text/html": [
       "<div>\n",
       "<style scoped>\n",
       "    .dataframe tbody tr th:only-of-type {\n",
       "        vertical-align: middle;\n",
       "    }\n",
       "\n",
       "    .dataframe tbody tr th {\n",
       "        vertical-align: top;\n",
       "    }\n",
       "\n",
       "    .dataframe thead th {\n",
       "        text-align: right;\n",
       "    }\n",
       "</style>\n",
       "<table border=\"1\" class=\"dataframe\">\n",
       "  <thead>\n",
       "    <tr style=\"text-align: right;\">\n",
       "      <th></th>\n",
       "      <th>опыт работы</th>\n",
       "      <th>средний размер зарплаты</th>\n",
       "    </tr>\n",
       "  </thead>\n",
       "  <tbody>\n",
       "    <tr>\n",
       "      <th>0</th>\n",
       "      <td>От 3 до 6 лет</td>\n",
       "      <td>243115.0</td>\n",
       "    </tr>\n",
       "  </tbody>\n",
       "</table>\n",
       "</div>"
      ],
      "text/plain": [
       "     опыт работы  средний размер зарплаты\n",
       "0  От 3 до 6 лет                 243115.0"
      ]
     },
     "execution_count": 36,
     "metadata": {},
     "output_type": "execute_result"
    }
   ],
   "source": [
    "'''Создаем f-строку query_6_6 для запроса sql-таблице vacancies для получения необходимого\n",
    "дата-фрейма, который сможет ответить на вопрос задания '''\n",
    "\n",
    "query_6_6 = f'''\n",
    "                SELECT \n",
    "                    experience as \"опыт работы\",\n",
    "                    ROUND(AVG(COALESCE((salary_from + salary_to) / 2, salary_from, salary_to)), 0)\n",
    "                    as \"средний размер зарплаты\"\n",
    "                    -- вычисляем средний размер заработной платы по записям, как усредненный показатель\n",
    "                    -- среднего арифметического между верхним и нижним размером заработной платы\n",
    "                    -- результат округляем до целого\n",
    "                    FROM vacancies v --делаем запрос к sql-таблице vacancies\n",
    "                    WHERE\n",
    "                    -- проводим фильтрацию вакансий по названиям, связанным с работой с данными\n",
    "                    -- опыт работы 'От 3 до 6 лет'\n",
    "                    -- столбцы с уровнями заработной платы от и до должны быть заполнены\n",
    "                    (\n",
    "                    name ILIKE '%data scientist%' OR\n",
    "                    name ILIKE '%data science%' OR\n",
    "                    name ILIKE '%исследователь данных%' OR\n",
    "                    (\n",
    "                    name LIKE '%ML%' AND name NOT ILIKE '%HTML%') OR\n",
    "                    name ILIKE '%machine learning%' OR\n",
    "                    name ILIKE '%машинн%обучен%'\n",
    "                    )\n",
    "                    AND experience = 'От 3 до 6 лет'\n",
    "                    AND (salary_from IS NOT NULL OR salary_to IS NOT NULL)\n",
    "                    GROUP BY experience\n",
    "                '''\n",
    "\n",
    "df_6_6 = pd.read_sql_query (query_6_6, connection) # Запишем результат sql-запроса query_6_6 в дата-фрейм df_6_6\n",
    "df_6_6 # выводим на печать дата-фрейм df_6_5"
   ]
  },
  {
   "cell_type": "markdown",
   "id": "fbc3109f",
   "metadata": {
    "id": "aRIJ0mZEwU1_"
   },
   "source": [
    "Получаем, что для специалистов DS с опытом работы от 3 до 6 лет средний уровень заработной платы составляет около 240 тыс. рублей. - довольно высокий уровень."
   ]
  },
  {
   "cell_type": "markdown",
   "id": "a5b47eca",
   "metadata": {},
   "source": [
    "## Выводы по предметному анализу\n",
    "\n",
    "Проанализировав вакансии в основном метом лексического анализа мы видим, что специалисты DS занимают в базе существенную долю, навыки Python и SQL тоже имеет среди них значительную долю. Уровень заработной платы у таких специалистов довольно высокий. "
   ]
  },
  {
   "cell_type": "markdown",
   "id": "fb5508bc",
   "metadata": {},
   "source": [
    "_______________________________________________________________________________________________"
   ]
  },
  {
   "cell_type": "code",
   "execution_count": null,
   "id": "edce7985",
   "metadata": {},
   "outputs": [],
   "source": []
  },
  {
   "cell_type": "markdown",
   "id": "040c7490",
   "metadata": {},
   "source": [
    "# Юнит 7. Самостоятельные запросы к базе"
   ]
  },
  {
   "cell_type": "markdown",
   "id": "1ed4ba2d",
   "metadata": {},
   "source": [
    "Далее я решил сделать два запроса по базе - поизучать зависимости - между работодателями и числом вакансий, между работодателями и регионами. "
   ]
  },
  {
   "cell_type": "code",
   "execution_count": 4,
   "id": "f5ddafb0",
   "metadata": {},
   "outputs": [
    {
     "name": "stderr",
     "output_type": "stream",
     "text": [
      "C:\\Users\\afina\\AppData\\Local\\Temp\\ipykernel_6436\\1377140847.py:10: UserWarning: pandas only supports SQLAlchemy connectable (engine/connection) or database string URI or sqlite3 DBAPI2 connection. Other DBAPI2 objects are not tested. Please consider using SQLAlchemy.\n",
      "  df_7_1 = pd.read_sql_query (query_7_1, connection)\n"
     ]
    },
    {
     "data": {
      "text/html": [
       "<div>\n",
       "<style scoped>\n",
       "    .dataframe tbody tr th:only-of-type {\n",
       "        vertical-align: middle;\n",
       "    }\n",
       "\n",
       "    .dataframe tbody tr th {\n",
       "        vertical-align: top;\n",
       "    }\n",
       "\n",
       "    .dataframe thead th {\n",
       "        text-align: right;\n",
       "    }\n",
       "</style>\n",
       "<table border=\"1\" class=\"dataframe\">\n",
       "  <thead>\n",
       "    <tr style=\"text-align: right;\">\n",
       "      <th></th>\n",
       "      <th>name_empl</th>\n",
       "      <th>name_vac</th>\n",
       "    </tr>\n",
       "  </thead>\n",
       "  <tbody>\n",
       "    <tr>\n",
       "      <th>0</th>\n",
       "      <td>1000 мелочей (ИП Гафиатуллина Гульшат Митарисо...</td>\n",
       "      <td>Специалист по IT</td>\n",
       "    </tr>\n",
       "    <tr>\n",
       "      <th>1</th>\n",
       "      <td>1001 Soft</td>\n",
       "      <td>Системный администратор</td>\n",
       "    </tr>\n",
       "    <tr>\n",
       "      <th>2</th>\n",
       "      <td>1001 Тур</td>\n",
       "      <td>Perl разработчик</td>\n",
       "    </tr>\n",
       "    <tr>\n",
       "      <th>3</th>\n",
       "      <td>100 печей</td>\n",
       "      <td>Программист 1С</td>\n",
       "    </tr>\n",
       "    <tr>\n",
       "      <th>4</th>\n",
       "      <td>1019</td>\n",
       "      <td>Системный администратор</td>\n",
       "    </tr>\n",
       "    <tr>\n",
       "      <th>...</th>\n",
       "      <td>...</td>\n",
       "      <td>...</td>\n",
       "    </tr>\n",
       "    <tr>\n",
       "      <th>36517</th>\n",
       "      <td>ЯСП</td>\n",
       "      <td>Frontend-разработчик / Fullstack</td>\n",
       "    </tr>\n",
       "    <tr>\n",
       "      <th>36518</th>\n",
       "      <td>ЯСП</td>\n",
       "      <td>Java-разработчик</td>\n",
       "    </tr>\n",
       "    <tr>\n",
       "      <th>36519</th>\n",
       "      <td>ЯСП</td>\n",
       "      <td>Junior Java-разработчик</td>\n",
       "    </tr>\n",
       "    <tr>\n",
       "      <th>36520</th>\n",
       "      <td>Ястро-Переработка</td>\n",
       "      <td>Системный администратор</td>\n",
       "    </tr>\n",
       "    <tr>\n",
       "      <th>36521</th>\n",
       "      <td>ЯТСС</td>\n",
       "      <td>Инженер службы технической поддержки</td>\n",
       "    </tr>\n",
       "  </tbody>\n",
       "</table>\n",
       "<p>36522 rows × 2 columns</p>\n",
       "</div>"
      ],
      "text/plain": [
       "                                               name_empl  \\\n",
       "0      1000 мелочей (ИП Гафиатуллина Гульшат Митарисо...   \n",
       "1                                              1001 Soft   \n",
       "2                                               1001 Тур   \n",
       "3                                              100 печей   \n",
       "4                                                   1019   \n",
       "...                                                  ...   \n",
       "36517                                                ЯСП   \n",
       "36518                                                ЯСП   \n",
       "36519                                                ЯСП   \n",
       "36520                                  Ястро-Переработка   \n",
       "36521                                               ЯТСС   \n",
       "\n",
       "                                   name_vac  \n",
       "0                          Специалист по IT  \n",
       "1                   Системный администратор  \n",
       "2                          Perl разработчик  \n",
       "3                            Программист 1С  \n",
       "4                   Системный администратор  \n",
       "...                                     ...  \n",
       "36517      Frontend-разработчик / Fullstack  \n",
       "36518                      Java-разработчик  \n",
       "36519               Junior Java-разработчик  \n",
       "36520               Системный администратор  \n",
       "36521  Инженер службы технической поддержки  \n",
       "\n",
       "[36522 rows x 2 columns]"
      ]
     },
     "execution_count": 4,
     "metadata": {},
     "output_type": "execute_result"
    }
   ],
   "source": [
    "query_7_1 = f'''\n",
    "SELECT \n",
    "e.name name_empl, --название работодателя\n",
    "v.name name_vac   --название вакансии\n",
    "FROM vacancies v --делаем запрос к sql-таблице vacancies\n",
    "JOIN employers e ON v.employer_id = e.id --эта таблицу соединяю с таблицей employers через идентификатор работодателя\n",
    "GROUP BY e.name,v.name --группирую по названиям работодателя и вакансии\n",
    "ORDER BY 1,2 --сортирую по алфавиту по двум столбцам\n",
    "             '''\n",
    "df_7_1 = pd.read_sql_query (query_7_1, connection)\n",
    "df_7_1\n"
   ]
  },
  {
   "cell_type": "markdown",
   "id": "f34181c7",
   "metadata": {},
   "source": [
    "Мы видим, что в таблице дублируются названия работодателей."
   ]
  },
  {
   "cell_type": "code",
   "execution_count": 5,
   "id": "4da772d5",
   "metadata": {},
   "outputs": [
    {
     "data": {
      "text/plain": [
       "14766"
      ]
     },
     "execution_count": 5,
     "metadata": {},
     "output_type": "execute_result"
    }
   ],
   "source": [
    "df_7_1[\"name_empl\"].nunique()"
   ]
  },
  {
   "cell_type": "markdown",
   "id": "181d653f",
   "metadata": {},
   "source": [
    "Из 36522 записей в таблице уникальных 14766 названия, значит на некоторых работодателей приходится несколько вакансий."
   ]
  },
  {
   "cell_type": "code",
   "execution_count": 6,
   "id": "e8601c4b",
   "metadata": {},
   "outputs": [
    {
     "data": {
      "text/plain": [
       "name_empl\n",
       "СБЕР                                                     322\n",
       "МТС                                                      247\n",
       "ИК СИБИНТЕК                                              237\n",
       "Ростелеком                                               218\n",
       "Газпром нефть                                            194\n",
       "                                                        ... \n",
       "Гурьева Мария Николаевна                                   1\n",
       "ГУСП МТС Центральная РБ                                    1\n",
       "ГУ Тульской Области Организатор Перевозок и Навигации      1\n",
       "ГУФССП России по Кемеровской области - Кузбассу            1\n",
       "ЯТСС                                                       1\n",
       "Name: count, Length: 14766, dtype: int64"
      ]
     },
     "execution_count": 6,
     "metadata": {},
     "output_type": "execute_result"
    }
   ],
   "source": [
    "unique_values2 = df_7_1[\"name_empl\"].value_counts()\n",
    "unique_values2"
   ]
  },
  {
   "cell_type": "markdown",
   "id": "d3c464b9",
   "metadata": {},
   "source": [
    "Выведим по каждому работодателю число размещенных им вакансий."
   ]
  },
  {
   "cell_type": "code",
   "execution_count": 8,
   "id": "a649ddfa",
   "metadata": {},
   "outputs": [
    {
     "data": {
      "text/plain": [
       "name_empl\n",
       "СБЕР                       322\n",
       "МТС                        247\n",
       "ИК СИБИНТЕК                237\n",
       "Ростелеком                 218\n",
       "Газпром нефть              194\n",
       "Тинькофф                   163\n",
       "VK                         129\n",
       "Яндекс                     127\n",
       "Совкомбанк Технологии      120\n",
       "DataArt                    106\n",
       "Ozon                       100\n",
       "Первый Бит                  94\n",
       "Лига Цифровой Экономики     87\n",
       "МАГНИТ, Розничная сеть      79\n",
       "Банк ВТБ (ПАО)              76\n",
       "Name: count, dtype: int64"
      ]
     },
     "execution_count": 8,
     "metadata": {},
     "output_type": "execute_result"
    }
   ],
   "source": [
    "unique_values2.head(15)"
   ]
  },
  {
   "cell_type": "markdown",
   "id": "70c7a87e",
   "metadata": {},
   "source": [
    "Первые 11 работодателей разместили более 100 вакансий."
   ]
  },
  {
   "cell_type": "markdown",
   "id": "6de9a8f0",
   "metadata": {},
   "source": [
    "__________________________________________________________________________________________"
   ]
  },
  {
   "cell_type": "markdown",
   "id": "47bd4b1f",
   "metadata": {},
   "source": [
    "Аналогично предыдущему запросу делаю таблицу связи работодателей и регионов в которых они разместили вакансии."
   ]
  },
  {
   "cell_type": "code",
   "execution_count": 4,
   "id": "6677fe04",
   "metadata": {},
   "outputs": [
    {
     "name": "stderr",
     "output_type": "stream",
     "text": [
      "C:\\Users\\afina\\AppData\\Local\\Temp\\ipykernel_18952\\3455520739.py:9: UserWarning: pandas only supports SQLAlchemy connectable (engine/connection) or database string URI or sqlite3 DBAPI2 connection. Other DBAPI2 objects are not tested. Please consider using SQLAlchemy.\n",
      "  df_7_2 = pd.read_sql_query (query_7_2, connection)\n"
     ]
    },
    {
     "data": {
      "text/html": [
       "<div>\n",
       "<style scoped>\n",
       "    .dataframe tbody tr th:only-of-type {\n",
       "        vertical-align: middle;\n",
       "    }\n",
       "\n",
       "    .dataframe tbody tr th {\n",
       "        vertical-align: top;\n",
       "    }\n",
       "\n",
       "    .dataframe thead th {\n",
       "        text-align: right;\n",
       "    }\n",
       "</style>\n",
       "<table border=\"1\" class=\"dataframe\">\n",
       "  <thead>\n",
       "    <tr style=\"text-align: right;\">\n",
       "      <th></th>\n",
       "      <th>area_name</th>\n",
       "      <th>employ_name</th>\n",
       "    </tr>\n",
       "  </thead>\n",
       "  <tbody>\n",
       "    <tr>\n",
       "      <th>0</th>\n",
       "      <td>Россия</td>\n",
       "      <td>Коттон Вэй</td>\n",
       "    </tr>\n",
       "    <tr>\n",
       "      <th>1</th>\n",
       "      <td>Санкт-Петербург</td>\n",
       "      <td>UNISTORY LLC</td>\n",
       "    </tr>\n",
       "    <tr>\n",
       "      <th>2</th>\n",
       "      <td>Тюмень</td>\n",
       "      <td>Менделеев маркетинг</td>\n",
       "    </tr>\n",
       "    <tr>\n",
       "      <th>3</th>\n",
       "      <td>Атырау</td>\n",
       "      <td>ЗаманКвантор</td>\n",
       "    </tr>\n",
       "    <tr>\n",
       "      <th>4</th>\n",
       "      <td>Санкт-Петербург</td>\n",
       "      <td>Гефест, группа компаний</td>\n",
       "    </tr>\n",
       "    <tr>\n",
       "      <th>...</th>\n",
       "      <td>...</td>\n",
       "      <td>...</td>\n",
       "    </tr>\n",
       "    <tr>\n",
       "      <th>23465</th>\n",
       "      <td>Минск</td>\n",
       "      <td>Новаком Групп</td>\n",
       "    </tr>\n",
       "    <tr>\n",
       "      <th>23466</th>\n",
       "      <td>Москва</td>\n",
       "      <td>Тематика</td>\n",
       "    </tr>\n",
       "    <tr>\n",
       "      <th>23467</th>\n",
       "      <td>Швейцария</td>\n",
       "      <td>Assaia International AG</td>\n",
       "    </tr>\n",
       "    <tr>\n",
       "      <th>23468</th>\n",
       "      <td>Новороссийск</td>\n",
       "      <td>Центр винного туризма Абрау Дюрсо</td>\n",
       "    </tr>\n",
       "    <tr>\n",
       "      <th>23469</th>\n",
       "      <td>Москва</td>\n",
       "      <td>Криз</td>\n",
       "    </tr>\n",
       "  </tbody>\n",
       "</table>\n",
       "<p>23470 rows × 2 columns</p>\n",
       "</div>"
      ],
      "text/plain": [
       "             area_name                        employ_name\n",
       "0               Россия                         Коттон Вэй\n",
       "1      Санкт-Петербург                       UNISTORY LLC\n",
       "2               Тюмень                Менделеев маркетинг\n",
       "3               Атырау                       ЗаманКвантор\n",
       "4      Санкт-Петербург            Гефест, группа компаний\n",
       "...                ...                                ...\n",
       "23465            Минск                      Новаком Групп\n",
       "23466           Москва                           Тематика\n",
       "23467        Швейцария            Assaia International AG\n",
       "23468     Новороссийск  Центр винного туризма Абрау Дюрсо\n",
       "23469           Москва                               Криз\n",
       "\n",
       "[23470 rows x 2 columns]"
      ]
     },
     "execution_count": 4,
     "metadata": {},
     "output_type": "execute_result"
    }
   ],
   "source": [
    "query_7_2 = f'''\n",
    "SELECT\n",
    "a.name area_name,\n",
    "e.name employ_name\n",
    "FROM employers e \n",
    "JOIN areas a ON e.area = a.id\n",
    "GROUP BY a.name,e.name\n",
    "             '''\n",
    "df_7_2 = pd.read_sql_query (query_7_2, connection)\n",
    "df_7_2\n"
   ]
  },
  {
   "cell_type": "code",
   "execution_count": 5,
   "id": "a3669bbe",
   "metadata": {},
   "outputs": [
    {
     "data": {
      "text/plain": [
       "654"
      ]
     },
     "execution_count": 5,
     "metadata": {},
     "output_type": "execute_result"
    }
   ],
   "source": [
    "df_7_2[\"area_name\"].nunique()"
   ]
  },
  {
   "cell_type": "markdown",
   "id": "09dd0a97",
   "metadata": {},
   "source": [
    "Из 23740 регионов 654 уникальных, значит на некоторые регионы приходится несколько работодателей."
   ]
  },
  {
   "cell_type": "code",
   "execution_count": 7,
   "id": "1a79b421",
   "metadata": {},
   "outputs": [
    {
     "data": {
      "text/plain": [
       "area_name\n",
       "Москва                              5843\n",
       "Санкт-Петербург                     2211\n",
       "Минск                               1114\n",
       "Алматы                               721\n",
       "Екатеринбург                         609\n",
       "                                    ... \n",
       "Каневская                              1\n",
       "Железногорск (Красноярский край)       1\n",
       "Гаврилов-Ям                            1\n",
       "Дубовое                                1\n",
       "Мама                                   1\n",
       "Name: count, Length: 654, dtype: int64"
      ]
     },
     "execution_count": 7,
     "metadata": {},
     "output_type": "execute_result"
    }
   ],
   "source": [
    "unique_values = df_7_2[\"area_name\"].value_counts()\n",
    "unique_values"
   ]
  },
  {
   "cell_type": "code",
   "execution_count": 18,
   "id": "12a8e9d4",
   "metadata": {},
   "outputs": [
    {
     "data": {
      "text/plain": [
       "area_name\n",
       "Москва                       5843\n",
       "Санкт-Петербург              2211\n",
       "Минск                        1114\n",
       "Алматы                        721\n",
       "Екатеринбург                  609\n",
       "Новосибирск                   571\n",
       "Казань                        480\n",
       "Нижний Новгород               426\n",
       "Россия                        410\n",
       "Краснодар                     409\n",
       "Ростов-на-Дону                335\n",
       "Красноярск                    331\n",
       "Ташкент                       326\n",
       "Самара                        314\n",
       "Нур-Султан                    312\n",
       "Челябинск                     310\n",
       "Воронеж                       292\n",
       "Уфа                           252\n",
       "Пермь                         250\n",
       "Тюмень                        218\n",
       "Омск                          210\n",
       "Казахстан                     207\n",
       "Томск                         191\n",
       "Ижевск                        189\n",
       "Иркутск                       187\n",
       "Барнаул                       187\n",
       "Калининград                   157\n",
       "Тула                          149\n",
       "Владивосток                   148\n",
       "Саратов                       138\n",
       "Ярославль                     137\n",
       "Кемерово                      121\n",
       "Рязань                        115\n",
       "Белгород                      115\n",
       "Хабаровск                     112\n",
       "Киров (Кировская область)     111\n",
       "Пенза                         111\n",
       "Сочи                          109\n",
       "Волгоград                     107\n",
       "Тольятти                      100\n",
       "Name: count, dtype: int64"
      ]
     },
     "execution_count": 18,
     "metadata": {},
     "output_type": "execute_result"
    }
   ],
   "source": [
    "unique_values.head(40)"
   ]
  },
  {
   "cell_type": "markdown",
   "id": "d62799d4",
   "metadata": {},
   "source": [
    "Первые 40 регионов насчитывают более 100 работодателей. Лидеры в таблице естественно Москва и Санкт-Петербург."
   ]
  },
  {
   "cell_type": "markdown",
   "id": "6a7892b4-4113-4746-adce-18aa2844f18e",
   "metadata": {
    "id": "6a7892b4-4113-4746-adce-18aa2844f18e"
   },
   "source": [
    "***"
   ]
  },
  {
   "cell_type": "markdown",
   "id": "c0ED6fh7wiBT",
   "metadata": {
    "id": "c0ED6fh7wiBT"
   },
   "source": [
    "# Общий вывод по проекту"
   ]
  },
  {
   "cell_type": "markdown",
   "id": "1a8ad1a5",
   "metadata": {
    "id": "h9B3BL-wwj18"
   },
   "source": [
    "Данный проект является хорошим тренажером для отработки навыков по работе в связке инструментов SQL и Python.\n",
    "\n",
    "В начале мы поочередно делаем предварительный просмотр SQL-таблиц: смотрим какие признаки(столбцы) у каждой таблицы, ее размер (колличество записей), взаимосвязи между таблицами через идентификаторы (желательно прочертить схему взаимосвязей между таблицами на бумаге - это даст нам понимание каким образом можно дальше строить запросы.\n",
    "\n",
    "Дальше мы будем изучать те записи в базе (таблицы), которые имеют наибольшее колличество признаков импортирую записи из таблиц в дата-фрейм для дальнейшей его обработки инструментами библиотек Python.\n",
    "Делая запросы в SQL мы используем инструменты соединения таблиц через идентификаторы, агрегирующие функции, фильтры значений , сортировка и прочее. Полезными в дальнейшей работе будут приемы работы из раздела 6, которые дают нам возможность делать лексический анализ базы и делать из него выводы.\n",
    "\n",
    "Приемы, отработанные в данном проекте можно применять в будующей моей работе, как специалиста DS для анализа уже более сложных баз данных."
   ]
  }
 ],
 "metadata": {
  "colab": {
   "collapsed_sections": [
    "8d62a9f3-f64e-4fe7-bdac-c4dffa16155e"
   ],
   "provenance": []
  },
  "kernelspec": {
   "display_name": "Python 3 (ipykernel)",
   "language": "python",
   "name": "python3"
  },
  "language_info": {
   "codemirror_mode": {
    "name": "ipython",
    "version": 3
   },
   "file_extension": ".py",
   "mimetype": "text/x-python",
   "name": "python",
   "nbconvert_exporter": "python",
   "pygments_lexer": "ipython3",
   "version": "3.11.5"
  }
 },
 "nbformat": 4,
 "nbformat_minor": 5
}
